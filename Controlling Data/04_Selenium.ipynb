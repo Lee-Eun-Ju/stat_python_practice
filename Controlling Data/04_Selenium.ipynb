{
 "cells": [
  {
   "cell_type": "code",
   "execution_count": 1,
   "metadata": {},
   "outputs": [
    {
     "name": "stdout",
     "output_type": "stream",
     "text": [
      "Collecting selenium\n",
      "  Downloading selenium-3.141.0-py2.py3-none-any.whl (904 kB)\n",
      "Requirement already satisfied: urllib3 in c:\\programdata\\anaconda3\\lib\\site-packages (from selenium) (1.22)\n",
      "Installing collected packages: selenium\n",
      "Successfully installed selenium-3.141.0\n"
     ]
    }
   ],
   "source": [
    "!pip install selenium"
   ]
  },
  {
   "cell_type": "code",
   "execution_count": 2,
   "metadata": {},
   "outputs": [],
   "source": [
    "from selenium import webdriver"
   ]
  },
  {
   "cell_type": "code",
   "execution_count": 11,
   "metadata": {},
   "outputs": [],
   "source": [
    "driver = webdriver.Chrome('C:\\\\Users\\\\driver\\\\chromedriver')\n",
    "driver.get(\"http://naver.com\")"
   ]
  },
  {
   "cell_type": "code",
   "execution_count": 7,
   "metadata": {},
   "outputs": [
    {
     "data": {
      "text/plain": [
       "False"
      ]
     },
     "execution_count": 7,
     "metadata": {},
     "output_type": "execute_result"
    }
   ],
   "source": [
    "driver.save_screenshot(\"C:\\\\Users\\\\images\\\\001.png\")"
   ]
  },
  {
   "cell_type": "code",
   "execution_count": 12,
   "metadata": {},
   "outputs": [],
   "source": [
    "login = \"\"\"//*[@id=\"account\"]/div/a/i\"\"\"\n",
    "driver.find_element_by_xpath(login).click()"
   ]
  },
  {
   "cell_type": "code",
   "execution_count": 13,
   "metadata": {},
   "outputs": [],
   "source": [
    "elem_login = driver.find_element_by_id(\"id\")\n",
    "elem_login.clear()\n",
    "elem_login.send_keys(\"dmswn1578\")\n",
    "\n",
    "elem_login = driver.find_element_by_id(\"pw\")\n",
    "elem_login.clear()\n",
    "elem_login.send_keys(\"ziaco1578\")"
   ]
  },
  {
   "cell_type": "code",
   "execution_count": 14,
   "metadata": {},
   "outputs": [],
   "source": [
    "xpath = \"\"\"//*[@id=\"log.login\"]\"\"\"\n",
    "driver.find_element_by_xpath(xpath).click()"
   ]
  },
  {
   "cell_type": "code",
   "execution_count": 15,
   "metadata": {},
   "outputs": [],
   "source": [
    "driver.get(\"http://mail.naver.com\")"
   ]
  },
  {
   "cell_type": "code",
   "execution_count": 16,
   "metadata": {},
   "outputs": [],
   "source": [
    "from bs4 import BeautifulSoup\n",
    "\n",
    "html = driver.page_source\n",
    "soup = BeautifulSoup(html, 'html.parser')"
   ]
  },
  {
   "cell_type": "code",
   "execution_count": 17,
   "metadata": {},
   "outputs": [
    {
     "data": {
      "text/plain": [
       "[<div class=\"name _ccr(lst.from) sender_h\"><span class=\"blind\">보낸 이:</span><a class=\"_c1(myContextMenu|showSenderContextLayer|list|32645) _stopDefault\" href=\"#\" title='\"티몬 1212타임\" &lt;noreply@tmon.kr&gt;'>티몬 1212타임</a></div>,\n",
       " <div class=\"name _ccr(lst.from) sender_h\"><span class=\"blind\">보낸 이:</span><a class=\"_c1(myContextMenu|showSenderContextLayer|list|32644) _stopDefault\" href=\"#\" title='\"티몬 2020\" &lt;noreply@tmon.kr&gt;'>티몬 2020</a></div>,\n",
       " <div class=\"name _ccr(lst.from) sender_h\"><span class=\"blind\">보낸 이:</span><a class=\"_c1(myContextMenu|showSenderContextLayer|list|32643) _stopDefault\" href=\"#\" title='\"티몬 4,900원 균일가\" &lt;noreply@tmon.kr&gt;'>티몬 4,900원 균일가</a></div>,\n",
       " <div class=\"name _ccr(lst.from) sender_h\"><span class=\"blind\">보낸 이:</span><a class=\"_c1(myContextMenu|showSenderContextLayer|list|32641) _stopDefault\" href=\"#\" title='\"티몬 1212타임\" &lt;noreply@tmon.kr&gt;'>티몬 1212타임</a></div>,\n",
       " <div class=\"name _ccr(lst.from) sender_h\"><span class=\"blind\">보낸 이:</span><a class=\"_c1(myContextMenu|showSenderContextLayer|list|32640) _stopDefault\" href=\"#\" title='\"티몬 2020\" &lt;noreply@tmon.kr&gt;'>티몬 2020</a></div>,\n",
       " <div class=\"name _ccr(lst.from) sender_h\"><span class=\"blind\">보낸 이:</span><a class=\"_c1(myContextMenu|showSenderContextLayer|list|32639) _stopDefault\" href=\"#\" title='\"티몬 이메일전용딜\" &lt;noreply@tmon.kr&gt;'>티몬 이메일전용딜</a></div>,\n",
       " <div class=\"name _ccr(lst.from) sender_h\"><span class=\"blind\">보낸 이:</span><a class=\"_c1(myContextMenu|showSenderContextLayer|list|32638) _stopDefault\" href=\"#\" title='\"신협햇살론\" &lt;mail1@jwpsendmail.co.kr&gt;'>신협햇살론</a></div>,\n",
       " <div class=\"name _ccr(lst.from) sender_h\"><span class=\"blind\">보낸 이:</span><a class=\"_c1(myContextMenu|showSenderContextLayer|list|32637) _stopDefault\" href=\"#\" title='\"종근당건강\" &lt;mail1@jweventmail.co.kr&gt;'>종근당건강</a></div>,\n",
       " <div class=\"name _ccr(lst.from) sender_h\"><span class=\"blind\">보낸 이:</span><a class=\"_c1(myContextMenu|showSenderContextLayer|list|32636) _stopDefault\" href=\"#\" title='\"대명리조트\" &lt;mail1@jwpeventmail.co.kr&gt;'>대명리조트</a></div>,\n",
       " <div class=\"name _ccr(lst.from) sender_h\"><span class=\"blind\">보낸 이:</span><a class=\"_c1(myContextMenu|showSenderContextLayer|list|32635) _stopDefault\" href=\"#\" title='\"보험비교닷컴\" &lt;mail1@jwemailcenter.co.kr&gt;'>보험비교닷컴</a></div>,\n",
       " <div class=\"name _ccr(lst.from) sender_h\"><span class=\"blind\">보낸 이:</span><a class=\"_c1(myContextMenu|showSenderContextLayer|list|32634) _stopDefault\" href=\"#\" title='\"다이렉트자동차보험\" &lt;mail1@jwemailcenter.co.kr&gt;'>다이렉트자동차보험</a></div>,\n",
       " <div class=\"name _ccr(lst.from) sender_h\"><span class=\"blind\">보낸 이:</span><a class=\"_c1(myContextMenu|showSenderContextLayer|list|32633) _stopDefault\" href=\"#\" title='\"인터넷보험가입센터\" &lt;mail1@jwpemailer.co.kr&gt;'>인터넷보험가입센터</a></div>,\n",
       " <div class=\"name _ccr(lst.from) sender_h\"><span class=\"blind\">보낸 이:</span><a class=\"_c1(myContextMenu|showSenderContextLayer|list|32632) _stopDefault\" href=\"#\" title='\"티몬 10분어택\" &lt;noreply@tmon.kr&gt;'>티몬 10분어택</a></div>,\n",
       " <div class=\"name _ccr(lst.from) sender_h\"><span class=\"blind\">보낸 이:</span><a class=\"_c1(myContextMenu|showSenderContextLayer|list|32631) _stopDefault\" href=\"#\" title='\"티몬 2020\" &lt;noreply@tmon.kr&gt;'>티몬 2020</a></div>,\n",
       " <div class=\"name _ccr(lst.from) sender_h\"><span class=\"blind\">보낸 이:</span><a class=\"_c1(myContextMenu|showSenderContextLayer|list|32630) _stopDefault\" href=\"#\" title='\"네이버 캘린더 알림\" &lt;nvcal_noti@naver.com&gt;'>네이버 캘린더 알림</a></div>]"
      ]
     },
     "execution_count": 17,
     "metadata": {},
     "output_type": "execute_result"
    }
   ],
   "source": [
    "raw_list = soup.find_all('div',\"name _ccr(lst.from) sender_h\")\n",
    "raw_list                        "
   ]
  },
  {
   "cell_type": "code",
   "execution_count": 18,
   "metadata": {},
   "outputs": [
    {
     "data": {
      "text/plain": [
       "['티몬 1212타임',\n",
       " '티몬 2020',\n",
       " '티몬 4,900원 균일가',\n",
       " '티몬 1212타임',\n",
       " '티몬 2020',\n",
       " '티몬 이메일전용딜',\n",
       " '신협햇살론',\n",
       " '종근당건강',\n",
       " '대명리조트',\n",
       " '보험비교닷컴',\n",
       " '다이렉트자동차보험',\n",
       " '인터넷보험가입센터',\n",
       " '티몬 10분어택',\n",
       " '티몬 2020',\n",
       " '네이버 캘린더 알림']"
      ]
     },
     "execution_count": 18,
     "metadata": {},
     "output_type": "execute_result"
    }
   ],
   "source": [
    "send_list = [raw_list[n].find('a').get_text() for n in range(0,len(raw_list))]\n",
    "send_list"
   ]
  },
  {
   "cell_type": "code",
   "execution_count": 19,
   "metadata": {},
   "outputs": [],
   "source": [
    "driver.close()"
   ]
  },
  {
   "cell_type": "code",
   "execution_count": null,
   "metadata": {},
   "outputs": [],
   "source": []
  }
 ],
 "metadata": {
  "kernelspec": {
   "display_name": "Python 3",
   "language": "python",
   "name": "python3"
  },
  "language_info": {
   "codemirror_mode": {
    "name": "ipython",
    "version": 3
   },
   "file_extension": ".py",
   "mimetype": "text/x-python",
   "name": "python",
   "nbconvert_exporter": "python",
   "pygments_lexer": "ipython3",
   "version": "3.6.5"
  }
 },
 "nbformat": 4,
 "nbformat_minor": 2
}
