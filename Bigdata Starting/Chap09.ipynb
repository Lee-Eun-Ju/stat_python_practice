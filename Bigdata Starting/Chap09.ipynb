{
 "cells": [
  {
   "cell_type": "markdown",
   "metadata": {},
   "source": [
    "# Chap9. 통계와 수학적 기능을 위한 Numpy"
   ]
  },
  {
   "cell_type": "markdown",
   "metadata": {},
   "source": [
    "9.1 Numpy의 설치"
   ]
  },
  {
   "cell_type": "markdown",
   "metadata": {},
   "source": [
    "9.2 Numpy의 기초"
   ]
  },
  {
   "cell_type": "code",
   "execution_count": 3,
   "metadata": {},
   "outputs": [
    {
     "name": "stdout",
     "output_type": "stream",
     "text": [
      "3.0\n",
      "(3,)\n",
      "(2, 3)\n"
     ]
    }
   ],
   "source": [
    "###Numpy 배열\n",
    "#array; numpy형식으로 변환\n",
    "#shape; numpy배열의 객체가 지원해주는 속성(차원,원소 확인)\n",
    "import numpy as np\n",
    "x= np.array([1,3,5])\n",
    "print(x.mean())\n",
    "print(x.shape)\n",
    "\n",
    "y= np.array([[1,2,3],[2,3,4]])\n",
    "print(y.shape)"
   ]
  },
  {
   "cell_type": "code",
   "execution_count": 5,
   "metadata": {},
   "outputs": [
    {
     "name": "stdout",
     "output_type": "stream",
     "text": [
      "[[ 1  3]\n",
      " [ 5  7]\n",
      " [ 9 11]]\n",
      "[[1. 1. 1. 1.]\n",
      " [1. 1. 1. 1.]\n",
      " [1. 1. 1. 1.]]\n"
     ]
    }
   ],
   "source": [
    "#reshape; 원하는 배열 모양으로 변환\n",
    "x= np.array([1,3,5,7,9,11]).reshape(3,2)\n",
    "print(x)\n",
    "\n",
    "#ones; 배열 모양 지정-> 1의 값으로 채움\n",
    "y= np.ones([3,4])\n",
    "print(y)"
   ]
  },
  {
   "cell_type": "code",
   "execution_count": 7,
   "metadata": {},
   "outputs": [
    {
     "name": "stdout",
     "output_type": "stream",
     "text": [
      "[2 4 6]\n",
      "4.0\n",
      "3.5\n",
      "(2, 3)\n",
      "12\n"
     ]
    }
   ],
   "source": [
    "x= np.array([[1,3,5],[2,4,6]])\n",
    "print(x[1])\n",
    "print(x[1].mean())\n",
    "print(x.mean())\n",
    "print(x.shape)"
   ]
  },
  {
   "cell_type": "code",
   "execution_count": 12,
   "metadata": {},
   "outputs": [
    {
     "name": "stdout",
     "output_type": "stream",
     "text": [
      "12\n",
      "[11 12 13]\n",
      "[ 1 11]\n"
     ]
    }
   ],
   "source": [
    "###Numpy 배열의 슬라이싱\n",
    "list1 = [[1,11],[2,12],[3,13]]\n",
    "print(list1[1][1])\n",
    "\n",
    "list1= [[1,11],[2,12],[3,13]]\n",
    "print(list1[:][1]) #원하는 형식X\n",
    "#print(list1[:, 1]) error\n",
    "\n",
    "import numpy as np\n",
    "list1= [[1,11],[2,12],[3,13]]\n",
    "np_ary= np.array(list1)\n",
    "print(np_ary[:,1])\n",
    "\n",
    "list2= [[1,11],[2,12],[3,13]]\n",
    "#print(np.array(list2[:,1])) error\n",
    "print(np.array(list2[:][0])) #원하는 형식X"
   ]
  },
  {
   "cell_type": "code",
   "execution_count": 16,
   "metadata": {},
   "outputs": [
    {
     "name": "stdout",
     "output_type": "stream",
     "text": [
      "[ 0  1  2  3  4  5  6  7  8  9 10 11 12 13 14]\n",
      "[[ 0  1  2  3  4]\n",
      " [ 5  6  7  8  9]\n",
      " [10 11 12 13 14]]\n",
      "6\n"
     ]
    }
   ],
   "source": [
    "###Numpy를 이용한 연산\n",
    "import math\n",
    "math.sqrt(2)\n",
    "#math.sqrt([2,3,4])\n",
    "\n",
    "import numpy as np\n",
    "np.sqrt([2,3,4])\n",
    "\n",
    "a= np.arange(15)\n",
    "print(a)\n",
    "a= np.arange(15).reshape(3,5)\n",
    "print(a)\n",
    "print(a[1,1])"
   ]
  },
  {
   "cell_type": "code",
   "execution_count": 17,
   "metadata": {},
   "outputs": [
    {
     "name": "stdout",
     "output_type": "stream",
     "text": [
      "[0. 0. 0.]\n",
      "[[0. 0. 0.]\n",
      " [0. 0. 0.]\n",
      " [0. 0. 0.]\n",
      " [0. 0. 0.]]\n"
     ]
    }
   ],
   "source": [
    "###제로 벡터와 제로 행렬\n",
    "import numpy as np\n",
    "zero_vector= np.zeros(3) #1차원배열\n",
    "zero_matrix= np.zeros((4,3)) #2차원배열\n",
    "print(zero_vector)\n",
    "print(zero_matrix)"
   ]
  },
  {
   "cell_type": "code",
   "execution_count": 18,
   "metadata": {},
   "outputs": [
    {
     "data": {
      "text/plain": [
       "array([0., 0., 0.])"
      ]
     },
     "execution_count": 18,
     "metadata": {},
     "output_type": "execute_result"
    }
   ],
   "source": [
    "zero_vector"
   ]
  },
  {
   "cell_type": "code",
   "execution_count": 19,
   "metadata": {},
   "outputs": [
    {
     "data": {
      "text/plain": [
       "array([[0., 0., 0.],\n",
       "       [0., 0., 0.],\n",
       "       [0., 0., 0.],\n",
       "       [0., 0., 0.]])"
      ]
     },
     "execution_count": 19,
     "metadata": {},
     "output_type": "execute_result"
    }
   ],
   "source": [
    "zero_matrix"
   ]
  },
  {
   "cell_type": "code",
   "execution_count": 20,
   "metadata": {},
   "outputs": [
    {
     "data": {
      "text/plain": [
       "array([[4., 4., 4., 4., 4.],\n",
       "       [4., 4., 4., 4., 4.],\n",
       "       [4., 4., 4., 4., 4.]])"
      ]
     },
     "execution_count": 20,
     "metadata": {},
     "output_type": "execute_result"
    }
   ],
   "source": [
    "my_array= np.zeros(15).reshape(3,5)\n",
    "my_array+= 4\n",
    "my_array"
   ]
  },
  {
   "cell_type": "code",
   "execution_count": 28,
   "metadata": {},
   "outputs": [
    {
     "name": "stdout",
     "output_type": "stream",
     "text": [
      "[[1 3]\n",
      " [2 4]]\n"
     ]
    }
   ],
   "source": [
    "###전치행렬\n",
    "import numpy as np\n",
    "ary= np.array([[1,2],[3,4]])\n",
    "print(ary.transpose())"
   ]
  },
  {
   "cell_type": "code",
   "execution_count": 32,
   "metadata": {},
   "outputs": [
    {
     "name": "stdout",
     "output_type": "stream",
     "text": [
      "[1, 2, 3, 4, 5, 6]\n",
      "[5 7 9]\n",
      "[ 4 10 18]\n"
     ]
    }
   ],
   "source": [
    "x=[1,2,3]\n",
    "y=[4,5,6]\n",
    "z=x+y\n",
    "print(z)\n",
    "\n",
    "x=np.array([1,2,3])\n",
    "y=np.array([4,5,6])\n",
    "z=x+y\n",
    "print(z)\n",
    "print(x*y)"
   ]
  },
  {
   "cell_type": "code",
   "execution_count": 34,
   "metadata": {},
   "outputs": [
    {
     "name": "stdout",
     "output_type": "stream",
     "text": [
      "[2 3 4]\n"
     ]
    }
   ],
   "source": [
    "s=[1,2,3]\n",
    "#print(s+1)\n",
    "\n",
    "s=np.array([1,2,3])\n",
    "print(s+1)"
   ]
  },
  {
   "cell_type": "code",
   "execution_count": 35,
   "metadata": {},
   "outputs": [
    {
     "name": "stdout",
     "output_type": "stream",
     "text": [
      "[2. 2. 2.]\n"
     ]
    }
   ],
   "source": [
    "x= np.array([4,8,12])\n",
    "y= np.array([2,4,6])\n",
    "print(x/y)"
   ]
  },
  {
   "cell_type": "code",
   "execution_count": 36,
   "metadata": {},
   "outputs": [
    {
     "name": "stdout",
     "output_type": "stream",
     "text": [
      "[4 5 6]\n",
      "[2 5 8]\n",
      "[ 5 11 17]\n"
     ]
    }
   ],
   "source": [
    "x = np.array([[1,2,3],[4,5,6],[7,8,9]])\n",
    "y = np.array([[2,3,4],[5,6,7],[8,9,10]])\n",
    "print(x[1])\n",
    "print(x[:,1])\n",
    "print(x[:,1]+y[:,1])"
   ]
  },
  {
   "cell_type": "code",
   "execution_count": 37,
   "metadata": {},
   "outputs": [
    {
     "name": "stdout",
     "output_type": "stream",
     "text": [
      "[20 40 60]\n"
     ]
    }
   ],
   "source": [
    "a= np.array([10,20,30,40,50,60,70])\n",
    "i= [1,3,5]\n",
    "print(a[i])"
   ]
  },
  {
   "cell_type": "code",
   "execution_count": 38,
   "metadata": {},
   "outputs": [
    {
     "name": "stdout",
     "output_type": "stream",
     "text": [
      "b:  [20 40 60]\n",
      "b:  [20 10 60]\n",
      "a:  [10 20 30 10 50 60 70]\n"
     ]
    }
   ],
   "source": [
    "a= np.array([10,20,30,40,50,60,70])\n",
    "b= a[1:6:2]\n",
    "print('b: ',b)\n",
    "b[1]= 10\n",
    "print('b: ',b)\n",
    "print('a: ',a)"
   ]
  },
  {
   "cell_type": "code",
   "execution_count": 39,
   "metadata": {},
   "outputs": [
    {
     "name": "stdout",
     "output_type": "stream",
     "text": [
      "b:  [20 40 60]\n",
      "b:  [20 10 60]\n",
      "a:  [10 20 30 40 50 60 70]\n"
     ]
    }
   ],
   "source": [
    "a= np.array([10,20,30,40,50,60,70])\n",
    "b= np.array(a[1:6:2])\n",
    "print('b: ',b)\n",
    "b[1]= 10\n",
    "print('b: ',b)\n",
    "print('a: ',a)"
   ]
  },
  {
   "cell_type": "code",
   "execution_count": 21,
   "metadata": {},
   "outputs": [
    {
     "name": "stdout",
     "output_type": "stream",
     "text": [
      "[False False False False False  True  True]\n",
      "[0.90132191 0.77594173 0.57126414 0.83013698 0.79415814]\n",
      "True\n",
      "True\n"
     ]
    }
   ],
   "source": [
    "###불리언\n",
    "a= np.array([10,20,30,40,50,60,70])\n",
    "b= a>50\n",
    "print(b)\n",
    "\n",
    "ary= np.random.rand(5)\n",
    "print(ary)\n",
    "print(np.all(ary >= 0.3))\n",
    "print(np.any(ary > 0.7))"
   ]
  },
  {
   "cell_type": "code",
   "execution_count": 23,
   "metadata": {},
   "outputs": [
    {
     "name": "stdout",
     "output_type": "stream",
     "text": [
      "[14.29102209 12.41723356 13.83317944 21.87665519 14.73015823]\n",
      "[False False False  True False]\n"
     ]
    }
   ],
   "source": [
    "import numpy as np\n",
    "height= np.array([173, 168, 171, 189, 179])\n",
    "weight= np.array([65.4, 59.2, 63.6, 88.4, 68.7])\n",
    "bmi= ((weight/height)**2)*100\n",
    "print(bmi)\n",
    "print(bmi>20)"
   ]
  },
  {
   "cell_type": "code",
   "execution_count": null,
   "metadata": {},
   "outputs": [],
   "source": [
    "###등간격 나누기"
   ]
  },
  {
   "cell_type": "code",
   "execution_count": 27,
   "metadata": {},
   "outputs": [
    {
     "name": "stdout",
     "output_type": "stream",
     "text": [
      "[ 0.  4.  8. 12.]\n",
      "(array([ 0.,  4.,  8., 12.]), 4.0)\n",
      "[0. 3. 6. 9.]\n",
      "[ 10.          17.7827941   31.6227766   56.23413252 100.        ]\n",
      "[ 10.          17.7827941   31.6227766   56.23413252 100.        ]\n"
     ]
    }
   ],
   "source": [
    "import numpy as np\n",
    "print(np.linspace(0,12,4))\n",
    "print(np.linspace(0,12,4, retstep=True))\n",
    "print(np.linspace(0,12,4, endpoint=False))\n",
    "\n",
    "print(np.logspace(np.log10(10),np.log10(100),5))\n",
    "print(np.logspace(1,2,5))"
   ]
  }
 ],
 "metadata": {
  "kernelspec": {
   "display_name": "Python 3",
   "language": "python",
   "name": "python3"
  },
  "language_info": {
   "codemirror_mode": {
    "name": "ipython",
    "version": 3
   },
   "file_extension": ".py",
   "mimetype": "text/x-python",
   "name": "python",
   "nbconvert_exporter": "python",
   "pygments_lexer": "ipython3",
   "version": "3.6.5"
  }
 },
 "nbformat": 4,
 "nbformat_minor": 2
}
