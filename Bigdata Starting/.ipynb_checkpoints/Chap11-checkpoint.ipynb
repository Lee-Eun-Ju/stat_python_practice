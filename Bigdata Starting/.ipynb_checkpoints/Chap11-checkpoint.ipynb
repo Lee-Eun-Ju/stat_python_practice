{
 "cells": [
  {
   "cell_type": "markdown",
   "metadata": {},
   "source": [
    "# Chap11. 데이터프레임 처리를 위한 Pandas"
   ]
  },
  {
   "cell_type": "markdown",
   "metadata": {},
   "source": [
    "11.1 Pandas의 기초"
   ]
  },
  {
   "cell_type": "code",
   "execution_count": 2,
   "metadata": {},
   "outputs": [
    {
     "name": "stdout",
     "output_type": "stream",
     "text": [
      "0    7\n",
      "1    3\n",
      "2    5\n",
      "3    8\n",
      "dtype: int64\n",
      "서울    7\n",
      "대구    2\n",
      "부산    1\n",
      "광주    7\n",
      "dtype: int64\n"
     ]
    }
   ],
   "source": [
    "#Pandas\n",
    "import pandas as pd\n",
    "x= pd.Series([7,3,5,8])\n",
    "y= pd.Series([7,2,1,7], index=['서울','대구','부산','광주'])\n",
    "print(x)\n",
    "print(y)"
   ]
  },
  {
   "cell_type": "code",
   "execution_count": 2,
   "metadata": {},
   "outputs": [
    {
     "name": "stdout",
     "output_type": "stream",
     "text": [
      "7\n",
      "서울    7\n",
      "대구    2\n",
      "dtype: int64\n",
      "Index(['서울', '대구', '부산', '광주'], dtype='object')\n",
      "[1, 2, 7, 7]\n",
      "광주    7\n",
      "대구    2\n",
      "부산    1\n",
      "서울    7\n",
      "dtype: int64\n"
     ]
    }
   ],
   "source": [
    "print(y['서울'])\n",
    "print(y[['서울','대구']])\n",
    "print(y.index)\n",
    "print(sorted(y.values))\n",
    "print(y.reindex(sorted(y.index)))"
   ]
  },
  {
   "cell_type": "code",
   "execution_count": 3,
   "metadata": {},
   "outputs": [
    {
     "data": {
      "text/plain": [
       "광주     NaN\n",
       "대구     7.0\n",
       "대전     NaN\n",
       "부산    12.0\n",
       "서울     5.0\n",
       "dtype: float64"
      ]
     },
     "execution_count": 3,
     "metadata": {},
     "output_type": "execute_result"
    }
   ],
   "source": [
    "a= pd.Series([3,5,6,2], index=[\"서울\",\"대구\",\"부산\",\"광주\"])\n",
    "b= pd.Series([2,6,2,8], index=[\"대구\",\"부산\",\"서울\",\"대전\"])\n",
    "a+b"
   ]
  },
  {
   "cell_type": "code",
   "execution_count": 4,
   "metadata": {},
   "outputs": [
    {
     "name": "stdout",
     "output_type": "stream",
     "text": [
      "[1 5 3 2]\n",
      "['민준' '현우' '서연' '동현']\n"
     ]
    }
   ],
   "source": [
    "da= [1,5,3,2,1,5,3]\n",
    "d= pd.Series(da)\n",
    "print(pd.unique(d))\n",
    "\n",
    "ba= [\"민준\",\"현우\",\"서연\",\"동현\",\"서연\",\"현우\"]\n",
    "b= pd.Series(ba)\n",
    "print(pd.unique(b))"
   ]
  },
  {
   "cell_type": "code",
   "execution_count": 5,
   "metadata": {},
   "outputs": [
    {
     "data": {
      "text/plain": [
       "민준    23\n",
       "현우    43\n",
       "서연    12\n",
       "동현    45\n",
       "dtype: int64"
      ]
     },
     "execution_count": 5,
     "metadata": {},
     "output_type": "execute_result"
    }
   ],
   "source": [
    "age= {'민준':23, '현우':43, '서연':12, '동현':45}\n",
    "a= pd.Series(age)\n",
    "a"
   ]
  },
  {
   "cell_type": "code",
   "execution_count": 8,
   "metadata": {},
   "outputs": [
    {
     "name": "stdout",
     "output_type": "stream",
     "text": [
      "0    민준\n",
      "1    서연\n",
      "2    현우\n",
      "3    민서\n",
      "4    동현\n",
      "5    수빈\n",
      "dtype: object\n",
      "3    민서\n",
      "4    동현\n",
      "5    수빈\n",
      "dtype: object\n",
      "수빈\n"
     ]
    }
   ],
   "source": [
    "name= ['민준','서연','현우','민서','동현','수빈']\n",
    "na= pd.Series(name)\n",
    "print(na)\n",
    "\n",
    "na_slicing= na[3:6]\n",
    "#print(na_slicing[2])\n",
    "print(na_slicing)\n",
    "print(na_slicing[5])"
   ]
  },
  {
   "cell_type": "code",
   "execution_count": 3,
   "metadata": {},
   "outputs": [
    {
     "name": "stdout",
     "output_type": "stream",
     "text": [
      "  name  age  height\n",
      "0   민준   24   175.4\n",
      "1   현우   14   180.3\n",
      "2   서연   25   165.8\n",
      "3   동현   36   156.7\n",
      "0    민준\n",
      "1    현우\n",
      "2    서연\n",
      "3    동현\n",
      "Name: name, dtype: object\n",
      "age        24.75\n",
      "height    169.55\n",
      "dtype: float64\n"
     ]
    }
   ],
   "source": [
    "#DataFrame\n",
    "data= {'age':[24,14,25,36],\n",
    "      'name':['민준','현우','서연','동현'],\n",
    "      'height':[175.4,180.3,165.8,156.7]}\n",
    "data= pd.DataFrame(data,columns= ['name','age','height'])\n",
    "print(data)\n",
    "print(data.name)\n",
    "print(data.mean(axis=0))"
   ]
  },
  {
   "cell_type": "code",
   "execution_count": 11,
   "metadata": {},
   "outputs": [
    {
     "name": "stdout",
     "output_type": "stream",
     "text": [
      "   First  Second\n",
      "0      1       2\n",
      "1      3       4\n",
      "2      5       6\n",
      "First     3\n",
      "Second    4\n",
      "Name: 1, dtype: int64\n",
      "0    2\n",
      "1    4\n",
      "2    6\n",
      "Name: Second, dtype: int64\n"
     ]
    }
   ],
   "source": [
    "ary= [[1,2],[3,4],[5,6]]\n",
    "data= pd.DataFrame(ary,columns=['First','Second'])\n",
    "print(data)\n",
    "print(data.iloc[1])\n",
    "print(data.iloc[:,-1])"
   ]
  },
  {
   "cell_type": "code",
   "execution_count": 12,
   "metadata": {},
   "outputs": [
    {
     "name": "stdout",
     "output_type": "stream",
     "text": [
      "<bound method NDFrame.head of    First  Second\n",
      "0      1       2\n",
      "1      3       4\n",
      "2      5       6\n",
      "3      7       8\n",
      "4      9      10>\n",
      "   First  Second\n",
      "0      1       2\n",
      "1      3       4\n",
      "2      5       6\n",
      "   First  Second\n",
      "2      5       6\n",
      "3      7       8\n",
      "4      9      10\n"
     ]
    }
   ],
   "source": [
    "ary= [[1,2],[3,4],[5,6],[7,8],[9,10]]\n",
    "data= pd.DataFrame(ary, columns=['First','Second'])\n",
    "print(data.head)\n",
    "print(data.head(3))\n",
    "print(data.tail(3))"
   ]
  },
  {
   "cell_type": "code",
   "execution_count": 13,
   "metadata": {},
   "outputs": [
    {
     "data": {
      "text/plain": [
       "1     4\n",
       "2     6\n",
       "4    10\n",
       "Name: Second, dtype: int64"
      ]
     },
     "execution_count": 13,
     "metadata": {},
     "output_type": "execute_result"
    }
   ],
   "source": [
    "ary= [[1,2],[3,4],[5,6],[7,8],[9,10]]\n",
    "data= pd.DataFrame(ary,columns=['First','Second'])\n",
    "bools= [False,True,True,False,True]\n",
    "data.Second[bools]"
   ]
  },
  {
   "cell_type": "code",
   "execution_count": 4,
   "metadata": {},
   "outputs": [
    {
     "name": "stdout",
     "output_type": "stream",
     "text": [
      "age        24.75\n",
      "height    169.55\n",
      "dtype: float64\n"
     ]
    }
   ],
   "source": [
    "#pandas의 수학적인 메서드\n",
    "print(data.mean(axis=0)) #0;행에 대한 평균, 1;열에 대한 평균"
   ]
  },
  {
   "cell_type": "code",
   "execution_count": 6,
   "metadata": {},
   "outputs": [
    {
     "data": {
      "text/html": [
       "<div>\n",
       "<style scoped>\n",
       "    .dataframe tbody tr th:only-of-type {\n",
       "        vertical-align: middle;\n",
       "    }\n",
       "\n",
       "    .dataframe tbody tr th {\n",
       "        vertical-align: top;\n",
       "    }\n",
       "\n",
       "    .dataframe thead th {\n",
       "        text-align: right;\n",
       "    }\n",
       "</style>\n",
       "<table border=\"1\" class=\"dataframe\">\n",
       "  <thead>\n",
       "    <tr style=\"text-align: right;\">\n",
       "      <th></th>\n",
       "      <th>수온</th>\n",
       "      <th>상온</th>\n",
       "    </tr>\n",
       "  </thead>\n",
       "  <tbody>\n",
       "    <tr>\n",
       "      <td>0</td>\n",
       "      <td>1</td>\n",
       "      <td>2</td>\n",
       "    </tr>\n",
       "    <tr>\n",
       "      <td>1</td>\n",
       "      <td>3</td>\n",
       "      <td>4</td>\n",
       "    </tr>\n",
       "    <tr>\n",
       "      <td>2</td>\n",
       "      <td>5</td>\n",
       "      <td>6</td>\n",
       "    </tr>\n",
       "    <tr>\n",
       "      <td>3</td>\n",
       "      <td>7</td>\n",
       "      <td>8</td>\n",
       "    </tr>\n",
       "    <tr>\n",
       "      <td>4</td>\n",
       "      <td>9</td>\n",
       "      <td>10</td>\n",
       "    </tr>\n",
       "  </tbody>\n",
       "</table>\n",
       "</div>"
      ],
      "text/plain": [
       "   수온  상온\n",
       "0   1   2\n",
       "1   3   4\n",
       "2   5   6\n",
       "3   7   8\n",
       "4   9  10"
      ]
     },
     "execution_count": 6,
     "metadata": {},
     "output_type": "execute_result"
    }
   ],
   "source": [
    "#Pandas의 데이터 형변환\n",
    "import numpy as np\n",
    "import pandas as pd\n",
    "\n",
    "ary= [[1,2],[3,4],[5,6],[7,8],[9,10]]\n",
    "data= pd.DataFrame(ary,columns=['수온','상온'])\n",
    "data"
   ]
  },
  {
   "cell_type": "code",
   "execution_count": 7,
   "metadata": {},
   "outputs": [
    {
     "data": {
      "text/html": [
       "<div>\n",
       "<style scoped>\n",
       "    .dataframe tbody tr th:only-of-type {\n",
       "        vertical-align: middle;\n",
       "    }\n",
       "\n",
       "    .dataframe tbody tr th {\n",
       "        vertical-align: top;\n",
       "    }\n",
       "\n",
       "    .dataframe thead th {\n",
       "        text-align: right;\n",
       "    }\n",
       "</style>\n",
       "<table border=\"1\" class=\"dataframe\">\n",
       "  <thead>\n",
       "    <tr style=\"text-align: right;\">\n",
       "      <th></th>\n",
       "      <th>수온</th>\n",
       "      <th>상온</th>\n",
       "    </tr>\n",
       "  </thead>\n",
       "  <tbody>\n",
       "    <tr>\n",
       "      <td>0</td>\n",
       "      <td>1.0</td>\n",
       "      <td>2</td>\n",
       "    </tr>\n",
       "    <tr>\n",
       "      <td>1</td>\n",
       "      <td>3.0</td>\n",
       "      <td>4</td>\n",
       "    </tr>\n",
       "    <tr>\n",
       "      <td>2</td>\n",
       "      <td>5.0</td>\n",
       "      <td>6</td>\n",
       "    </tr>\n",
       "    <tr>\n",
       "      <td>3</td>\n",
       "      <td>7.0</td>\n",
       "      <td>8</td>\n",
       "    </tr>\n",
       "    <tr>\n",
       "      <td>4</td>\n",
       "      <td>9.0</td>\n",
       "      <td>10</td>\n",
       "    </tr>\n",
       "  </tbody>\n",
       "</table>\n",
       "</div>"
      ],
      "text/plain": [
       "    수온  상온\n",
       "0  1.0   2\n",
       "1  3.0   4\n",
       "2  5.0   6\n",
       "3  7.0   8\n",
       "4  9.0  10"
      ]
     },
     "execution_count": 7,
     "metadata": {},
     "output_type": "execute_result"
    }
   ],
   "source": [
    "data['수온']= data['수온'].astype('float')\n",
    "data"
   ]
  },
  {
   "cell_type": "code",
   "execution_count": null,
   "metadata": {},
   "outputs": [],
   "source": [
    "#Pandas에서 파일 가져오기\n",
    "import pandas as pd\n",
    "food = pd.read_csv(\"food.csv\")\n",
    "food.head()"
   ]
  },
  {
   "cell_type": "code",
   "execution_count": null,
   "metadata": {},
   "outputs": [],
   "source": [
    "import pandas as pd \n",
    "accident = pd.read_csv(\"acci.csv\", engine='python')\n",
    "accident.head()"
   ]
  }
 ],
 "metadata": {
  "kernelspec": {
   "display_name": "Python 3",
   "language": "python",
   "name": "python3"
  },
  "language_info": {
   "codemirror_mode": {
    "name": "ipython",
    "version": 3
   },
   "file_extension": ".py",
   "mimetype": "text/x-python",
   "name": "python",
   "nbconvert_exporter": "python",
   "pygments_lexer": "ipython3",
   "version": "3.7.4"
  }
 },
 "nbformat": 4,
 "nbformat_minor": 2
}
