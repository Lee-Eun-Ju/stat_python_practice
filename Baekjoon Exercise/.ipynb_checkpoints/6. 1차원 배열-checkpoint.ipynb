{
 "cells": [
  {
   "cell_type": "code",
   "execution_count": 14,
   "metadata": {},
   "outputs": [
    {
     "name": "stdout",
     "output_type": "stream",
     "text": [
      "3\n",
      "20 10 25\n",
      "25 10\n"
     ]
    }
   ],
   "source": [
    "#6-1\n",
    "n=input()\n",
    "data= list(map(int,input().split()))\n",
    "print(min(data),max(data))"
   ]
  },
  {
   "cell_type": "code",
   "execution_count": 16,
   "metadata": {},
   "outputs": [
    {
     "name": "stdout",
     "output_type": "stream",
     "text": [
      "24\n",
      "25\n",
      "26\n",
      "37\n",
      "56\n",
      "26\n",
      "37\n",
      "47\n",
      "27\n",
      "56\n",
      "5\n"
     ]
    }
   ],
   "source": [
    "# 6-2\n",
    "data=[]\n",
    "for i in range(9):\n",
    "    data.append(int(input()))\n",
    "print(max(data))\n",
    "print(data.index(max(data))+1)"
   ]
  },
  {
   "cell_type": "code",
   "execution_count": 8,
   "metadata": {},
   "outputs": [
    {
     "name": "stdout",
     "output_type": "stream",
     "text": [
      "347\n",
      "263\n",
      "172\n",
      "0\n",
      "1\n",
      "1\n",
      "0\n",
      "0\n",
      "1\n",
      "2\n",
      "0\n",
      "1\n",
      "2\n"
     ]
    }
   ],
   "source": [
    "#6-3\n",
    "A=int(input())\n",
    "B=int(input())\n",
    "C=int(input())\n",
    "key= list(str(A*B*C))\n",
    "\n",
    "count=[]\n",
    "for i in range(10):\n",
    "    count.append(0)\n",
    "\n",
    "for i in range(len(key)):\n",
    "    for k in range(10):\n",
    "        if key[i]==str(k):\n",
    "            count[k] += 1\n",
    "\n",
    "for i in range(len(count)):\n",
    "    print(count[i])"
   ]
  },
  {
   "cell_type": "code",
   "execution_count": 2,
   "metadata": {},
   "outputs": [
    {
     "name": "stdout",
     "output_type": "stream",
     "text": [
      "256\n",
      "345\n",
      "263\n",
      "234\n",
      "45\n",
      "352\n",
      "15\n",
      "35\n",
      "46\n",
      "36\n",
      "9\n"
     ]
    }
   ],
   "source": [
    "#6-4\n",
    "data=[]\n",
    "da=[]\n",
    "for i in range(10):\n",
    "    data.append(input())\n",
    "for d in data:\n",
    "    da.append(int(d)%42)\n",
    "print(len(set(da)))"
   ]
  },
  {
   "cell_type": "code",
   "execution_count": 10,
   "metadata": {},
   "outputs": [
    {
     "name": "stdout",
     "output_type": "stream",
     "text": [
      "3\n",
      "40 80 60\n",
      "[50.0, 100.0, 75.0]\n",
      "75.0\n"
     ]
    }
   ],
   "source": [
    "#6-5\n",
    "n= input()\n",
    "alist= list(map(int,input().split()))\n",
    "m= max(alist)\n",
    "for i in range(len(alist)):\n",
    "    alist[i]= alist[i]/m*100\n",
    "print(sum(alist)/int(n))"
   ]
  },
  {
   "cell_type": "code",
   "execution_count": null,
   "metadata": {},
   "outputs": [],
   "source": []
  },
  {
   "cell_type": "code",
   "execution_count": null,
   "metadata": {},
   "outputs": [],
   "source": []
  }
 ],
 "metadata": {
  "kernelspec": {
   "display_name": "Python 3",
   "language": "python",
   "name": "python3"
  },
  "language_info": {
   "codemirror_mode": {
    "name": "ipython",
    "version": 3
   },
   "file_extension": ".py",
   "mimetype": "text/x-python",
   "name": "python",
   "nbconvert_exporter": "python",
   "pygments_lexer": "ipython3",
   "version": "3.6.5"
  }
 },
 "nbformat": 4,
 "nbformat_minor": 2
}
