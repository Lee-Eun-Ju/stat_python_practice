{
 "cells": [
  {
   "cell_type": "code",
   "execution_count": 1,
   "metadata": {},
   "outputs": [
    {
     "name": "stdout",
     "output_type": "stream",
     "text": [
      "3 5\n",
      "<\n"
     ]
    }
   ],
   "source": [
    "#2-1\n",
    "a,b=input().split()\n",
    "a= int(a)\n",
    "b= int(b)\n",
    "if a>b:\n",
    "    print(\">\")\n",
    "elif a<b:\n",
    "    print(\"<\")\n",
    "else:\n",
    "    print(\"==\")"
   ]
  },
  {
   "cell_type": "code",
   "execution_count": null,
   "metadata": {},
   "outputs": [],
   "source": [
    "#2-2\n",
    "a= int(input())\n",
    "if a>=90:\n",
    "    print(\"A\")\n",
    "elif a>=80:\n",
    "    print(\"B\")\n",
    "elif a>=70:\n",
    "    print(\"C\")\n",
    "elif a>=60:\n",
    "    print(\"D\")\n",
    "else:\n",
    "    print(\"F\")"
   ]
  },
  {
   "cell_type": "code",
   "execution_count": 3,
   "metadata": {},
   "outputs": [
    {
     "name": "stdout",
     "output_type": "stream",
     "text": [
      "2000\n",
      "1\n"
     ]
    }
   ],
   "source": [
    "#2-3\n",
    "a= int(input())\n",
    "if ((a%4==0) & (a%100!=0)) | (a%400==0):\n",
    "    print(1)\n",
    "else:\n",
    "    print(0)"
   ]
  },
  {
   "cell_type": "code",
   "execution_count": 4,
   "metadata": {},
   "outputs": [
    {
     "name": "stdout",
     "output_type": "stream",
     "text": [
      "3 34\n",
      "2 49\n"
     ]
    }
   ],
   "source": [
    "#2-4\n",
    "h,m= input().split()\n",
    "h=int(h)\n",
    "m=int(m)\n",
    "if m>=45:\n",
    "    print(h, m-45)\n",
    "elif h==0:\n",
    "    print(23,60-(45-m))\n",
    "else:\n",
    "    print(h-1,60-(45-m))"
   ]
  },
  {
   "cell_type": "code",
   "execution_count": 6,
   "metadata": {},
   "outputs": [
    {
     "name": "stdout",
     "output_type": "stream",
     "text": [
      "5 6 3\n",
      "5\n"
     ]
    }
   ],
   "source": [
    "#2-5\n",
    "a,b,c= input().split()\n",
    "a=int(a)\n",
    "b=int(b)\n",
    "c=int(c)\n",
    "if ((a>=b) & (a<=c))|((a>=c) & (a<=b)):\n",
    "    print(a)\n",
    "elif ((b>=a) & (b<=c))|((b>=c) & (b<=a)):\n",
    "    print(b)\n",
    "elif ((c>=a) & (c<=b))|((c>=b) & (c<=a)):\n",
    "    print(c)\n",
    "else:\n",
    "    pass"
   ]
  },
  {
   "cell_type": "markdown",
   "metadata": {},
   "source": []
  }
 ],
 "metadata": {
  "kernelspec": {
   "display_name": "Python 3",
   "language": "python",
   "name": "python3"
  },
  "language_info": {
   "codemirror_mode": {
    "name": "ipython",
    "version": 3
   },
   "file_extension": ".py",
   "mimetype": "text/x-python",
   "name": "python",
   "nbconvert_exporter": "python",
   "pygments_lexer": "ipython3",
   "version": "3.6.5"
  }
 },
 "nbformat": 4,
 "nbformat_minor": 2
}
