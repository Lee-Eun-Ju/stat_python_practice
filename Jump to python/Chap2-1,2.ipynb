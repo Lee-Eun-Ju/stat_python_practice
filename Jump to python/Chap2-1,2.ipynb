{
 "cells": [
  {
   "cell_type": "markdown",
   "metadata": {},
   "source": [
    "# Chapter2. 파이썬 프로그래밍의 기초, 자료형"
   ]
  },
  {
   "cell_type": "markdown",
   "metadata": {},
   "source": [
    "2-1. 숫자형"
   ]
  },
  {
   "cell_type": "code",
   "execution_count": 1,
   "metadata": {
    "scrolled": true
   },
   "outputs": [
    {
     "name": "stdout",
     "output_type": "stream",
     "text": [
      "127\n",
      "375\n"
     ]
    }
   ],
   "source": [
    "a=0o177 #8진수\n",
    "print(a)\n",
    "\n",
    "b=0x177 #16진수\n",
    "print(b)"
   ]
  },
  {
   "cell_type": "markdown",
   "metadata": {},
   "source": [
    "2-2. 문자열 자료형"
   ]
  },
  {
   "cell_type": "code",
   "execution_count": 2,
   "metadata": {},
   "outputs": [
    {
     "name": "stdout",
     "output_type": "stream",
     "text": [
      "Python's favorite food is perl Python's favorite food is perl\n",
      "Life is too short\n",
      "You need python\n",
      "\n",
      "Life is too short\n",
      "You need python\n",
      "\n",
      "\n",
      "Life is too short\n",
      "You need python\n",
      "\n"
     ]
    }
   ],
   "source": [
    "food = \"Python's favorite food is perl\"\n",
    "food1 = 'Python\\'s favorite food is perl' #\\'은 '를 문자로 보는 것\n",
    "print(food,food1)\n",
    "\n",
    "multiline = \"Life is too short\\nYou need python\"\n",
    "print(multiline)\n",
    "\n",
    "multiline2='''\n",
    "Life is too short\n",
    "You need python\n",
    "'''\n",
    "print(multiline2)\n",
    "\n",
    "multiline3=\"\"\"\n",
    "Life is too short\n",
    "You need python\n",
    "\"\"\"\n",
    "print(multiline3)"
   ]
  },
  {
   "cell_type": "code",
   "execution_count": 3,
   "metadata": {},
   "outputs": [
    {
     "name": "stdout",
     "output_type": "stream",
     "text": [
      "Python is fun!\n",
      "PythonPythonPythonPythonPythonPythonPythonPythonPythonPythonPythonPythonPythonPythonPythonPythonPythonPythonPythonPython\n",
      "14\n"
     ]
    }
   ],
   "source": [
    "#문자열 연산\n",
    "head = \"Python\"\n",
    "tail = \" is fun!\"\n",
    "print(head+tail)\n",
    "print(head*20)\n",
    "print(len(head+tail)) #문자열 길이 구하기"
   ]
  },
  {
   "cell_type": "code",
   "execution_count": 4,
   "metadata": {
    "scrolled": true
   },
   "outputs": [
    {
     "name": "stdout",
     "output_type": "stream",
     "text": [
      "L\n",
      "i\n"
     ]
    }
   ],
   "source": [
    "#문자열 인덱싱 -> 파이썬은 0부터 숫자를 센다.\n",
    "L = \"Life is too short, You need Python\"\n",
    "print(L[0])\n",
    "print(L[5])"
   ]
  },
  {
   "cell_type": "code",
   "execution_count": 5,
   "metadata": {},
   "outputs": [
    {
     "name": "stdout",
     "output_type": "stream",
     "text": [
      "Lif\n",
      "Life\n",
      "is too\n",
      "Life is too short\n",
      "You need Python\n",
      "Life is too short, You need Python\n",
      "You need\n",
      "2020년 0107날 날씨는 Rainy\n",
      "python\n"
     ]
    }
   ],
   "source": [
    "#문자열 슬라이싱\n",
    "L = \"Life is too short, You need Python\"\n",
    "print(L[0:3]) #0<=L<3 이므로 Lif 까지 출력\n",
    "print(L[0:4])\n",
    "print(L[5:11])\n",
    "print(L[:17])\n",
    "print(L[19:])\n",
    "print(L[:]) #처음부터 끝까지 출력\n",
    "print(L[19:-7]) #19<=L<-7 이므로 19에서 뒤에서 8번째 자리까지 출력\n",
    "\n",
    "a = \"20200107Rainy\"\n",
    "year=a[:4]\n",
    "day=a[4:8]\n",
    "weather=a[8:]\n",
    "print(year+\"년 \"+day+\"날\"+\" 날씨는 \"+weather)\n",
    "\n",
    "a = \"pithon\"\n",
    "print(a[:1]+\"y\"+a[2:])"
   ]
  },
  {
   "cell_type": "code",
   "execution_count": 6,
   "metadata": {},
   "outputs": [
    {
     "name": "stdout",
     "output_type": "stream",
     "text": [
      "I eat 3 apples.\n",
      "I eat five apples.\n",
      "I eat 3 apples.\n",
      "I ate 10 apples. so I was sick for three days.\n",
      "Error is 98%\n"
     ]
    }
   ],
   "source": [
    "# 문자열 포매팅 -> 문자열 안의 특정한 값을 바꿔야 하는 경우\n",
    "# %d;숫자 대입 %s;문자 대입\n",
    "# -> %s는 %뒤의 값이 숫자(정수,소수,,)이더라도 문자열로 바꾸어 출력 가능\n",
    "print(\"I eat %d apples.\" %3)\n",
    "print(\"I eat %s apples.\" %\"five\")\n",
    "\n",
    "number=3\n",
    "print(\"I eat %d apples.\" %number)\n",
    "\n",
    "number=10; day=\"three\"\n",
    "print(\"I ate %d apples. so I was sick for %s days.\" %(number, day))\n",
    "\n",
    "print(\"Error is %d%%\" %98) #포매팅 이용시 %를 쓸 경우 %%로 표현"
   ]
  },
  {
   "cell_type": "code",
   "execution_count": 9,
   "metadata": {},
   "outputs": [
    {
     "name": "stdout",
     "output_type": "stream",
     "text": [
      "I eat 3 apples\n",
      "I eat five apples\n",
      "I eat five apples\n",
      "I ate 10 apples. so I was sick for three days.\n",
      "I ate 10 apples. so I was sick for three days.\n",
      "I ate 10 apples. so I was sick for 3 days.\n"
     ]
    }
   ],
   "source": [
    "#format함수를 이용한 포매팅\n",
    "print(\"I eat {0} apples\".format(3))\n",
    "print(\"I eat {0} apples\".format(\"five\"))\n",
    "\n",
    "number= \"five\"\n",
    "print(\"I eat {0} apples\".format(number))\n",
    "\n",
    "number=10; day=\"three\"\n",
    "print(\"I ate {0} apples. so I was sick for {1} days.\".format(number, day)) #인덱스는 0,1,2,, 순서대로 진행\n",
    "\n",
    "print(\"I ate {na} apples. so I was sick for {da} days.\".format(na=10,da=\"three\")) #변수의 정의를 앞서 할 필요 없음.\n",
    "\n",
    "number=10\n",
    "print(\"I ate {0} apples. so I was sick for {da} days.\".format(number, da=3)) #인덱스와 이름 혼용 가능"
   ]
  },
  {
   "cell_type": "code",
   "execution_count": 13,
   "metadata": {},
   "outputs": [
    {
     "name": "stdout",
     "output_type": "stream",
     "text": [
      "hi        \n",
      "        hi\n",
      "    hi    \n",
      "Hi!!!!!!! Nice to meet you\n"
     ]
    }
   ],
   "source": [
    "print(\"{0:<10}\".format(\"hi\")) #왼쪽정렬 :<\n",
    "print(\"{0:>10}\".format(\"hi\")) #오른쪽정렬 :>\n",
    "print(\"{0:^10}\".format(\"hi\")) #가운데정렬 :^\n",
    "\n",
    "print(\"{0:!<9} nice to mee you\".format(\"hi\")) #{0:k} 0~k-1까지 자리수 생성"
   ]
  },
  {
   "cell_type": "code",
   "execution_count": 21,
   "metadata": {},
   "outputs": [
    {
     "name": "stdout",
     "output_type": "stream",
     "text": [
      "3.2396\n",
      "  3.2396\n",
      "A { and } B hi\n"
     ]
    }
   ],
   "source": [
    "y=3.2395820348\n",
    "print(\"{0:0.4f}\".format(y))\n",
    "print(\"{0:8.4f}\".format(y)) #k.xf ; k는 자릿수, x는 소수점 표현 \n",
    "\n",
    "print(\"A {{ and }} B {0}\".format(\"hi\")) #포매팅을 할 때, 문자 내에 {}를 문자로 사용할 경우 {{}} 사용"
   ]
  },
  {
   "cell_type": "code",
   "execution_count": 22,
   "metadata": {},
   "outputs": [
    {
     "name": "stdout",
     "output_type": "stream",
     "text": [
      "나의 이름은 이은주이고 나이는 22입니다.\n"
     ]
    }
   ],
   "source": [
    "#f문자열 포매팅\n",
    "name=\"이은주\"\n",
    "age=22\n",
    "print(f\"나의 이름은 {name}이고 나이는 {age}입니다.\")"
   ]
  },
  {
   "cell_type": "code",
   "execution_count": 27,
   "metadata": {},
   "outputs": [
    {
     "name": "stdout",
     "output_type": "stream",
     "text": [
      "2\n",
      "-1\n",
      "0\n",
      "4\n"
     ]
    }
   ],
   "source": [
    "##문자열 관련 함수\n",
    "#문자 개수 count\n",
    "a=\"training\"\n",
    "print(a.count(\"n\"))\n",
    "\n",
    "#문자 위치 find,index -> 문자가 처음 나온 위치\n",
    "b=\"Right and Left\"\n",
    "print(b.find(\"r\")) #대소문자 구별, find함수는 문자가 없을 시 -1 도출\n",
    "print(b.find(\"R\"))\n",
    "print(b.index(\"t\"))"
   ]
  },
  {
   "cell_type": "code",
   "execution_count": 28,
   "metadata": {},
   "outputs": [
    {
     "name": "stdout",
     "output_type": "stream",
     "text": [
      "a,b,c,d\n",
      "HI\n",
      "hi\n"
     ]
    },
    {
     "data": {
      "text/plain": [
       "['Love ', ' not everything']"
      ]
     },
     "execution_count": 28,
     "metadata": {},
     "output_type": "execute_result"
    }
   ],
   "source": [
    "#문자열 삽입 join\n",
    "print(\",\".join(\"abcd\"))\n",
    "\n",
    "#대문자 upper, 소문자 lower\n",
    "a= \"hi\"\n",
    "print(a.upper())\n",
    "print(a.lower())\n",
    "\n",
    "#공백 지우기 lstrip(왼쪽), rstrip(오른쪽), strip(양쪽)\n",
    "b= \" hi \"\n",
    "print(b.lstrip())\n",
    "\n",
    "#문자열 바꾸기 replace\n",
    "c=\"Love is not everything\"\n",
    "print(c.replace(\"not\",\"\"))\n",
    "\n",
    "#문자열 나누기 split -> 나누어진 개체는 리스트화 된다\n",
    "d=\"Love is not everything\"\n",
    "d.split() #공백을 기준으로 나눈다.\n",
    "print(d.split(\"is\"))"
   ]
  }
 ],
 "metadata": {
  "kernelspec": {
   "display_name": "Python 3",
   "language": "python",
   "name": "python3"
  },
  "language_info": {
   "codemirror_mode": {
    "name": "ipython",
    "version": 3
   },
   "file_extension": ".py",
   "mimetype": "text/x-python",
   "name": "python",
   "nbconvert_exporter": "python",
   "pygments_lexer": "ipython3",
   "version": "3.6.5"
  }
 },
 "nbformat": 4,
 "nbformat_minor": 2
}
