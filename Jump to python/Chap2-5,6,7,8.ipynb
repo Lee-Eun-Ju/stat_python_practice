{
 "cells": [
  {
   "cell_type": "markdown",
   "metadata": {},
   "source": [
    "# Chap2-5,6,7,8"
   ]
  },
  {
   "cell_type": "markdown",
   "metadata": {},
   "source": [
    "2-5. 딕셔너리 자료형"
   ]
  },
  {
   "cell_type": "code",
   "execution_count": 1,
   "metadata": {},
   "outputs": [
    {
     "name": "stdout",
     "output_type": "stream",
     "text": [
      "{'name': 'pey', 'phone': '01012341234', 'birth': '0826', 2: 'b'}\n"
     ]
    }
   ],
   "source": [
    "dic = {'name':'pey', 'phone':'01012341234', 'birth':'0826', 1:'hi'}\n",
    "dic[2] = 'b'#딕셔너리 추가\n",
    "del dic[1] #딕셔너리 제거\n",
    "print(dic)"
   ]
  },
  {
   "cell_type": "code",
   "execution_count": 2,
   "metadata": {},
   "outputs": [
    {
     "name": "stdout",
     "output_type": "stream",
     "text": [
      "pey\n",
      "01012341234\n",
      "b\n"
     ]
    }
   ],
   "source": [
    "print(dic['name'])\n",
    "print(dic['phone'])\n",
    "print(dic[2])"
   ]
  },
  {
   "cell_type": "code",
   "execution_count": 4,
   "metadata": {},
   "outputs": [
    {
     "name": "stdout",
     "output_type": "stream",
     "text": [
      "b\n"
     ]
    },
    {
     "ename": "TypeError",
     "evalue": "unhashable type: 'list'",
     "output_type": "error",
     "traceback": [
      "\u001b[1;31m---------------------------------------------------------------------------\u001b[0m",
      "\u001b[1;31mTypeError\u001b[0m                                 Traceback (most recent call last)",
      "\u001b[1;32m<ipython-input-4-bdf2e769966c>\u001b[0m in \u001b[0;36m<module>\u001b[1;34m()\u001b[0m\n\u001b[0;32m      4\u001b[0m \u001b[1;33m\u001b[0m\u001b[0m\n\u001b[0;32m      5\u001b[0m \u001b[1;31m#key 튜플O,리스트X ; value 튜플O,리스트O\u001b[0m\u001b[1;33m\u001b[0m\u001b[1;33m\u001b[0m\u001b[0m\n\u001b[1;32m----> 6\u001b[1;33m \u001b[0ma\u001b[0m\u001b[1;33m=\u001b[0m \u001b[1;33m{\u001b[0m\u001b[1;33m[\u001b[0m\u001b[1;36m1\u001b[0m\u001b[1;33m,\u001b[0m\u001b[1;36m2\u001b[0m\u001b[1;33m]\u001b[0m\u001b[1;33m:\u001b[0m\u001b[1;34m'hi'\u001b[0m\u001b[1;33m}\u001b[0m\u001b[1;33m\u001b[0m\u001b[0m\n\u001b[0m",
      "\u001b[1;31mTypeError\u001b[0m: unhashable type: 'list'"
     ]
    }
   ],
   "source": [
    "#key는 중복X\n",
    "a= {1:'a', 1:'b'}\n",
    "print(a[1])\n",
    "\n",
    "#key 튜플O,리스트X ; value 튜플O,리스트O\n",
    "a= {[1,2]:'hi'}"
   ]
  },
  {
   "cell_type": "code",
   "execution_count": 6,
   "metadata": {},
   "outputs": [
    {
     "name": "stdout",
     "output_type": "stream",
     "text": [
      "dict_keys(['name', 'phone', 'birth'])\n",
      "name\n",
      "phone\n",
      "birth\n",
      "['name', 'phone', 'birth']\n",
      "dict_values(['pey', '01012341234', '0826'])\n",
      "dict_items([('name', 'pey'), ('phone', '01012341234'), ('birth', '0826')])\n",
      "{}\n"
     ]
    }
   ],
   "source": [
    "#key 리스트\n",
    "a= {'name':'pey', 'phone':'01012341234', 'birth':'0826'}\n",
    "print(a.keys())\n",
    "\n",
    "for k in a.keys():\n",
    "    print(k)\n",
    "\n",
    "print(list(a.keys()))\n",
    "\n",
    "#value 리스트\n",
    "print(a.values())\n",
    "\n",
    "#쌍 얻기\n",
    "print(a.items())\n",
    "\n",
    "#쌍 모두 지우기\n",
    "a.clear()\n",
    "print(a)"
   ]
  },
  {
   "cell_type": "code",
   "execution_count": 8,
   "metadata": {},
   "outputs": [
    {
     "name": "stdout",
     "output_type": "stream",
     "text": [
      "pey\n",
      "pey\n",
      "None\n",
      "bar\n",
      "True\n",
      "False\n"
     ]
    }
   ],
   "source": [
    "#key로 value얻기\n",
    "a = {'name':'pey', 'phone':'01012341234', 'birth':'0826'}\n",
    "print(a.get('name'))\n",
    "print(a['name'])\n",
    "\n",
    "print(a.get('sir'))\n",
    "#print(a['sir'])\n",
    "print(a.get('sir','bar')) #sir이 없을 경우 bar 출력\n",
    "\n",
    "#해당 key가 딕셔너리 안에 있는지 조사\n",
    "print('name' in a)\n",
    "print('sir' in a)"
   ]
  },
  {
   "cell_type": "markdown",
   "metadata": {},
   "source": [
    "2-6. 집합 자료형"
   ]
  },
  {
   "cell_type": "code",
   "execution_count": 19,
   "metadata": {},
   "outputs": [
    {
     "name": "stdout",
     "output_type": "stream",
     "text": [
      "{1, 2, 3} {'h', 'e', 'o', 'l'} [1, 2, 3] (1, 2, 3)\n"
     ]
    }
   ],
   "source": [
    "#set-> 중복을 허용하지 않고, 순서가 없다\n",
    "s1= set([1,2,3])\n",
    "s2= set(\"hello\")\n",
    "l1= list(s1)\n",
    "t1= tuple(s1)\n",
    "print(s1, s2, l1, t1)"
   ]
  },
  {
   "cell_type": "code",
   "execution_count": 22,
   "metadata": {},
   "outputs": [
    {
     "name": "stdout",
     "output_type": "stream",
     "text": [
      "{4, 5, 6}\n",
      "{4, 5, 6}\n",
      "{1, 2, 3, 4, 5, 6, 7, 8, 9}\n",
      "{1, 2, 3, 4, 5, 6, 7, 8, 9}\n",
      "{1, 2, 3}\n",
      "{1, 2, 3}\n",
      "{8, 9, 7}\n",
      "{8, 9, 7}\n"
     ]
    }
   ],
   "source": [
    "s1= set([1,2,3,4,5,6])\n",
    "s2= set([4,5,6,7,8,9])\n",
    "\n",
    "#교집합\n",
    "print(s1&s2)\n",
    "print(s1.intersection(s2))\n",
    "\n",
    "#합집합\n",
    "print(s1|s2)\n",
    "print(s1.union(s2))\n",
    "\n",
    "#차집합\n",
    "print(s1-s2)\n",
    "print(s1.difference(s2))\n",
    "print(s2-s1)\n",
    "print(s2.difference(s1))"
   ]
  },
  {
   "cell_type": "code",
   "execution_count": 24,
   "metadata": {},
   "outputs": [
    {
     "name": "stdout",
     "output_type": "stream",
     "text": [
      "{1, 2, 3, 4}\n",
      "{1, 2, 3, 4, 5, 6}\n",
      "{2, 3, 4, 5, 6}\n"
     ]
    }
   ],
   "source": [
    "#집합 자료형 관련 함수\n",
    "#값 1개 추가\n",
    "s1= set([1,2,3])\n",
    "s1.add(4)\n",
    "print(s1)\n",
    "\n",
    "#값 여러개 추가\n",
    "s1.update([5,6])\n",
    "print(s1)\n",
    "\n",
    "#특정 값 제거\n",
    "s1.remove(1)\n",
    "print(s1)"
   ]
  },
  {
   "cell_type": "markdown",
   "metadata": {},
   "source": [
    "2-7. 불 자료형"
   ]
  },
  {
   "cell_type": "code",
   "execution_count": null,
   "metadata": {},
   "outputs": [],
   "source": [
    "#불 자료형-> 참과 거짓을 나타내는 자료형\n",
    "a= True\n",
    "b= False\n",
    "print(type(a), type(b))\n",
    "\n",
    "print(1==1)\n",
    "print(2>1)\n",
    "print(2<1)"
   ]
  },
  {
   "cell_type": "code",
   "execution_count": 26,
   "metadata": {},
   "outputs": [
    {
     "name": "stdout",
     "output_type": "stream",
     "text": [
      "4\n",
      "3\n",
      "2\n",
      "1\n",
      "거짓\n",
      "참\n"
     ]
    }
   ],
   "source": [
    "a= [1,2,3,4]\n",
    "while a: #a가 참인 동안\n",
    "    print(a.pop()) #a 리스트의 마지막 요소를 소비\n",
    "    \n",
    "if []:\n",
    "    print('참')\n",
    "else:\n",
    "    print('거짓')\n",
    "    \n",
    "if [1,2,3]:\n",
    "    print('참')\n",
    "else:\n",
    "    print('거짓')"
   ]
  },
  {
   "cell_type": "code",
   "execution_count": 28,
   "metadata": {},
   "outputs": [
    {
     "name": "stdout",
     "output_type": "stream",
     "text": [
      "True\n",
      "False\n",
      "True\n",
      "False\n",
      "False\n",
      "True\n"
     ]
    }
   ],
   "source": [
    "print(bool('python'))\n",
    "print(bool(''))\n",
    "\n",
    "print(bool([1,2,3]))\n",
    "print(bool([]))\n",
    "\n",
    "print(bool(0))\n",
    "print(bool(123))"
   ]
  },
  {
   "cell_type": "markdown",
   "metadata": {},
   "source": [
    "2-8. 자료형의 값을 저장하는 공간, 변수"
   ]
  },
  {
   "cell_type": "code",
   "execution_count": 13,
   "metadata": {},
   "outputs": [
    {
     "name": "stdout",
     "output_type": "stream",
     "text": [
      "1504734272 1504734272\n",
      "True\n"
     ]
    }
   ],
   "source": [
    "a= 1\n",
    "b= a #a=b라 하면 오류\n",
    "c= 'python'\n",
    "d=[1,2,3]\n",
    "\n",
    "print(id(a), id(b))\n",
    "print(a is b) #a와 b가 같은가-> 만약 따로 따로 생성된 것이라면 주소가 다르므로 False"
   ]
  },
  {
   "cell_type": "code",
   "execution_count": 16,
   "metadata": {},
   "outputs": [
    {
     "name": "stdout",
     "output_type": "stream",
     "text": [
      "[1, 2, 3] [1, 2, 3]\n",
      "[1, 8, 3] [1, 8, 3]\n",
      "[1, 2, 8] [1, 2, 3]\n",
      "2516382223176 2516382223560\n"
     ]
    }
   ],
   "source": [
    "a= [1,2,3]\n",
    "b= a\n",
    "print(a, b)\n",
    "a[1]= 8\n",
    "print(a, b) #a 변화-> b도 변화\n",
    "\n",
    "##a와 b가 다른 주소가 되도록 생성(b가 변화하지 않는다)\n",
    "#[:]; 리스트 전체\n",
    "a= [1,2,3]\n",
    "b= a[:]\n",
    "a[2]= 8\n",
    "print(a, b)\n",
    "\n",
    "#copy 모듈\n",
    "from copy import copy\n",
    "a= [1,2,3]\n",
    "b= copy(a)\n",
    "print(id(a), id(b))"
   ]
  },
  {
   "cell_type": "code",
   "execution_count": 17,
   "metadata": {},
   "outputs": [
    {
     "name": "stdout",
     "output_type": "stream",
     "text": [
      "python life\n",
      "python life\n",
      "python life\n",
      "python python\n",
      "3 5\n",
      "5 3\n"
     ]
    }
   ],
   "source": [
    "a,b = ('python','life')\n",
    "print(a,b)\n",
    "(a,b) = 'python','life'\n",
    "print(a,b)\n",
    "[a,b] = ['python','life']\n",
    "print(a,b)\n",
    "a=b='python'\n",
    "print(a,b)\n",
    "\n",
    "a=3\n",
    "b=5\n",
    "print(a,b)\n",
    "a,b=b,a\n",
    "print(a,b)"
   ]
  },
  {
   "cell_type": "code",
   "execution_count": null,
   "metadata": {},
   "outputs": [],
   "source": []
  }
 ],
 "metadata": {
  "kernelspec": {
   "display_name": "Python 3",
   "language": "python",
   "name": "python3"
  },
  "language_info": {
   "codemirror_mode": {
    "name": "ipython",
    "version": 3
   },
   "file_extension": ".py",
   "mimetype": "text/x-python",
   "name": "python",
   "nbconvert_exporter": "python",
   "pygments_lexer": "ipython3",
   "version": "3.6.5"
  }
 },
 "nbformat": 4,
 "nbformat_minor": 2
}
