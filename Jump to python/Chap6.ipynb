{
 "cells": [
  {
   "cell_type": "markdown",
   "metadata": {},
   "source": [
    "# Chap6.파이썬 프로그래밍, 어떻게 시작해야 할까?"
   ]
  },
  {
   "cell_type": "markdown",
   "metadata": {},
   "source": [
    "6-1 구구단"
   ]
  },
  {
   "cell_type": "code",
   "execution_count": 1,
   "metadata": {},
   "outputs": [
    {
     "name": "stdout",
     "output_type": "stream",
     "text": [
      "[4, 8, 12, 16, 20, 24, 28, 32, 36]\n"
     ]
    }
   ],
   "source": [
    "def Gu(n):\n",
    "    result=[]\n",
    "    i=1\n",
    "    while i<10 :\n",
    "        result.append(n*i)\n",
    "        i=i+1\n",
    "    return result\n",
    "\n",
    "print(Gu(4))"
   ]
  },
  {
   "cell_type": "markdown",
   "metadata": {},
   "source": [
    "6-2 3과 5의 배수 합"
   ]
  },
  {
   "cell_type": "code",
   "execution_count": 7,
   "metadata": {},
   "outputs": [
    {
     "name": "stdout",
     "output_type": "stream",
     "text": [
      "233168\n"
     ]
    }
   ],
   "source": [
    "def sum_ab(a,b):\n",
    "    result = 0\n",
    "    for i in range(1,1000):\n",
    "        if i%a == 0 or i%b == 0:\n",
    "            result += i\n",
    "    return result\n",
    "\n",
    "print(sum_ab(3,5))        "
   ]
  },
  {
   "cell_type": "markdown",
   "metadata": {},
   "source": [
    "6-3 게시판 페이징"
   ]
  },
  {
   "cell_type": "code",
   "execution_count": 10,
   "metadata": {},
   "outputs": [
    {
     "name": "stdout",
     "output_type": "stream",
     "text": [
      "2\n",
      "4\n",
      "3\n"
     ]
    }
   ],
   "source": [
    "def gettotalpage(m,n):\n",
    "    return m//n +1\n",
    "\n",
    "print(gettotalpage(15,10))\n",
    "print(gettotalpage(30,10))\n",
    "\n",
    "\n",
    "def gettotalpage1(m,n):\n",
    "    if m%n ==0:\n",
    "        return m//n\n",
    "    else:\n",
    "        return m//n +1\n",
    "    \n",
    "print(gettotalpage1(30,10))"
   ]
  },
  {
   "cell_type": "markdown",
   "metadata": {},
   "source": [
    "6-4 메모장"
   ]
  },
  {
   "cell_type": "code",
   "execution_count": 11,
   "metadata": {},
   "outputs": [
    {
     "name": "stdout",
     "output_type": "stream",
     "text": [
      "-f\n",
      "C:\\Users\\이은주\\AppData\\Roaming\\jupyter\\runtime\\kernel-ccc8e6e6-d5be-4f3c-9b87-2b95fb15f9ed.json\n"
     ]
    }
   ],
   "source": [
    "import sys #sys.argv : 프로그램을 실행할 때 입력된 값을 읽을 수 있는 파이썬 라이브러리\n",
    "           #sys.argv[0] : 입력받은 값 중 파이썬 프로그램 이름(=memo.py)\n",
    "\n",
    "option =sys.argv[1] #프로그램 실행 옵션 값\n",
    "memo =sys.argv[2] #메모 내용\n",
    "print(option)\n",
    "print(memo)"
   ]
  },
  {
   "cell_type": "markdown",
   "metadata": {},
   "source": [
    "6-5 탭을 4개의 공백으로 바꾸기"
   ]
  },
  {
   "cell_type": "code",
   "execution_count": 3,
   "metadata": {},
   "outputs": [],
   "source": [
    "#tabto4.py 참고"
   ]
  },
  {
   "cell_type": "markdown",
   "metadata": {},
   "source": [
    "6-6 하위 디렉터리 검색하기"
   ]
  },
  {
   "cell_type": "code",
   "execution_count": null,
   "metadata": {},
   "outputs": [],
   "source": [
    "#sub_dir_search.py 참고"
   ]
  }
 ],
 "metadata": {
  "kernelspec": {
   "display_name": "Python 3",
   "language": "python",
   "name": "python3"
  },
  "language_info": {
   "codemirror_mode": {
    "name": "ipython",
    "version": 3
   },
   "file_extension": ".py",
   "mimetype": "text/x-python",
   "name": "python",
   "nbconvert_exporter": "python",
   "pygments_lexer": "ipython3",
   "version": "3.6.5"
  }
 },
 "nbformat": 4,
 "nbformat_minor": 2
}
