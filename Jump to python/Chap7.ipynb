{
 "cells": [
  {
   "cell_type": "markdown",
   "metadata": {},
   "source": [
    "# Chap7. 정규표현식"
   ]
  },
  {
   "cell_type": "markdown",
   "metadata": {},
   "source": [
    "7-1 정규표현식 살펴보기"
   ]
  },
  {
   "cell_type": "code",
   "execution_count": 1,
   "metadata": {},
   "outputs": [
    {
     "name": "stdout",
     "output_type": "stream",
     "text": [
      "\n",
      "park 800905-*******\n",
      "kim 700905-*******\n",
      "\n"
     ]
    }
   ],
   "source": [
    "data = \"\"\"\n",
    "park 800905-1049118\n",
    "kim 700905-1059119\n",
    "\"\"\"\n",
    "result= []\n",
    "for line in data.split(\"\\n\"):\n",
    "    word_result=[]\n",
    "    for word in line.split(\" \"):\n",
    "        if len(word)==14 and word[:6].isdigit() and word[7:].isdigit():\n",
    "            word = word[:6] + \"-\"+\"*******\"\n",
    "        word_result.append(word)\n",
    "    result.append(\" \".join(word_result))\n",
    "print(\"\\n\".join(result))"
   ]
  },
  {
   "cell_type": "code",
   "execution_count": 2,
   "metadata": {},
   "outputs": [
    {
     "ename": "error",
     "evalue": "invalid group reference 1 at position 3",
     "output_type": "error",
     "traceback": [
      "\u001b[1;31m---------------------------------------------------------------------------\u001b[0m",
      "\u001b[1;31merror\u001b[0m                                     Traceback (most recent call last)",
      "\u001b[1;32m<ipython-input-2-6382aec49ae5>\u001b[0m in \u001b[0;36m<module>\u001b[1;34m()\u001b[0m\n\u001b[0;32m      6\u001b[0m \"\"\"\n\u001b[0;32m      7\u001b[0m \u001b[0mpat\u001b[0m \u001b[1;33m=\u001b[0m \u001b[0mre\u001b[0m\u001b[1;33m.\u001b[0m\u001b[0mcompile\u001b[0m\u001b[1;33m(\u001b[0m\u001b[1;34m\"\\d{6}[-]\\d{7}\"\u001b[0m\u001b[1;33m)\u001b[0m\u001b[1;33m\u001b[0m\u001b[0m\n\u001b[1;32m----> 8\u001b[1;33m \u001b[0mprint\u001b[0m\u001b[1;33m(\u001b[0m\u001b[0mpat\u001b[0m\u001b[1;33m.\u001b[0m\u001b[0msub\u001b[0m\u001b[1;33m(\u001b[0m\u001b[1;34m\"\\g<1>-*******\"\u001b[0m\u001b[1;33m,\u001b[0m\u001b[0mdata\u001b[0m\u001b[1;33m)\u001b[0m\u001b[1;33m)\u001b[0m\u001b[1;33m\u001b[0m\u001b[0m\n\u001b[0m",
      "\u001b[1;32mC:\\ProgramData\\Anaconda3\\lib\\re.py\u001b[0m in \u001b[0;36m_subx\u001b[1;34m(pattern, template)\u001b[0m\n\u001b[0;32m    324\u001b[0m \u001b[1;32mdef\u001b[0m \u001b[0m_subx\u001b[0m\u001b[1;33m(\u001b[0m\u001b[0mpattern\u001b[0m\u001b[1;33m,\u001b[0m \u001b[0mtemplate\u001b[0m\u001b[1;33m)\u001b[0m\u001b[1;33m:\u001b[0m\u001b[1;33m\u001b[0m\u001b[0m\n\u001b[0;32m    325\u001b[0m     \u001b[1;31m# internal: pattern.sub/subn implementation helper\u001b[0m\u001b[1;33m\u001b[0m\u001b[1;33m\u001b[0m\u001b[0m\n\u001b[1;32m--> 326\u001b[1;33m     \u001b[0mtemplate\u001b[0m \u001b[1;33m=\u001b[0m \u001b[0m_compile_repl\u001b[0m\u001b[1;33m(\u001b[0m\u001b[0mtemplate\u001b[0m\u001b[1;33m,\u001b[0m \u001b[0mpattern\u001b[0m\u001b[1;33m)\u001b[0m\u001b[1;33m\u001b[0m\u001b[0m\n\u001b[0m\u001b[0;32m    327\u001b[0m     \u001b[1;32mif\u001b[0m \u001b[1;32mnot\u001b[0m \u001b[0mtemplate\u001b[0m\u001b[1;33m[\u001b[0m\u001b[1;36m0\u001b[0m\u001b[1;33m]\u001b[0m \u001b[1;32mand\u001b[0m \u001b[0mlen\u001b[0m\u001b[1;33m(\u001b[0m\u001b[0mtemplate\u001b[0m\u001b[1;33m[\u001b[0m\u001b[1;36m1\u001b[0m\u001b[1;33m]\u001b[0m\u001b[1;33m)\u001b[0m \u001b[1;33m==\u001b[0m \u001b[1;36m1\u001b[0m\u001b[1;33m:\u001b[0m\u001b[1;33m\u001b[0m\u001b[0m\n\u001b[0;32m    328\u001b[0m         \u001b[1;31m# literal replacement\u001b[0m\u001b[1;33m\u001b[0m\u001b[1;33m\u001b[0m\u001b[0m\n",
      "\u001b[1;32mC:\\ProgramData\\Anaconda3\\lib\\re.py\u001b[0m in \u001b[0;36m_compile_repl\u001b[1;34m(repl, pattern)\u001b[0m\n\u001b[0;32m    315\u001b[0m \u001b[1;32mdef\u001b[0m \u001b[0m_compile_repl\u001b[0m\u001b[1;33m(\u001b[0m\u001b[0mrepl\u001b[0m\u001b[1;33m,\u001b[0m \u001b[0mpattern\u001b[0m\u001b[1;33m)\u001b[0m\u001b[1;33m:\u001b[0m\u001b[1;33m\u001b[0m\u001b[0m\n\u001b[0;32m    316\u001b[0m     \u001b[1;31m# internal: compile replacement pattern\u001b[0m\u001b[1;33m\u001b[0m\u001b[1;33m\u001b[0m\u001b[0m\n\u001b[1;32m--> 317\u001b[1;33m     \u001b[1;32mreturn\u001b[0m \u001b[0msre_parse\u001b[0m\u001b[1;33m.\u001b[0m\u001b[0mparse_template\u001b[0m\u001b[1;33m(\u001b[0m\u001b[0mrepl\u001b[0m\u001b[1;33m,\u001b[0m \u001b[0mpattern\u001b[0m\u001b[1;33m)\u001b[0m\u001b[1;33m\u001b[0m\u001b[0m\n\u001b[0m\u001b[0;32m    318\u001b[0m \u001b[1;33m\u001b[0m\u001b[0m\n\u001b[0;32m    319\u001b[0m \u001b[1;32mdef\u001b[0m \u001b[0m_expand\u001b[0m\u001b[1;33m(\u001b[0m\u001b[0mpattern\u001b[0m\u001b[1;33m,\u001b[0m \u001b[0mmatch\u001b[0m\u001b[1;33m,\u001b[0m \u001b[0mtemplate\u001b[0m\u001b[1;33m)\u001b[0m\u001b[1;33m:\u001b[0m\u001b[1;33m\u001b[0m\u001b[0m\n",
      "\u001b[1;32mC:\\ProgramData\\Anaconda3\\lib\\sre_parse.py\u001b[0m in \u001b[0;36mparse_template\u001b[1;34m(source, pattern)\u001b[0m\n\u001b[0;32m    920\u001b[0m                         raise s.error(\"invalid group reference %d\" % index,\n\u001b[0;32m    921\u001b[0m                                       len(name) + 1)\n\u001b[1;32m--> 922\u001b[1;33m                 \u001b[0maddgroup\u001b[0m\u001b[1;33m(\u001b[0m\u001b[0mindex\u001b[0m\u001b[1;33m,\u001b[0m \u001b[0mlen\u001b[0m\u001b[1;33m(\u001b[0m\u001b[0mname\u001b[0m\u001b[1;33m)\u001b[0m \u001b[1;33m+\u001b[0m \u001b[1;36m1\u001b[0m\u001b[1;33m)\u001b[0m\u001b[1;33m\u001b[0m\u001b[0m\n\u001b[0m\u001b[0;32m    923\u001b[0m             \u001b[1;32melif\u001b[0m \u001b[0mc\u001b[0m \u001b[1;33m==\u001b[0m \u001b[1;34m\"0\"\u001b[0m\u001b[1;33m:\u001b[0m\u001b[1;33m\u001b[0m\u001b[0m\n\u001b[0;32m    924\u001b[0m                 \u001b[1;32mif\u001b[0m \u001b[0ms\u001b[0m\u001b[1;33m.\u001b[0m\u001b[0mnext\u001b[0m \u001b[1;32min\u001b[0m \u001b[0mOCTDIGITS\u001b[0m\u001b[1;33m:\u001b[0m\u001b[1;33m\u001b[0m\u001b[0m\n",
      "\u001b[1;32mC:\\ProgramData\\Anaconda3\\lib\\sre_parse.py\u001b[0m in \u001b[0;36maddgroup\u001b[1;34m(index, pos)\u001b[0m\n\u001b[0;32m    885\u001b[0m     \u001b[1;32mdef\u001b[0m \u001b[0maddgroup\u001b[0m\u001b[1;33m(\u001b[0m\u001b[0mindex\u001b[0m\u001b[1;33m,\u001b[0m \u001b[0mpos\u001b[0m\u001b[1;33m)\u001b[0m\u001b[1;33m:\u001b[0m\u001b[1;33m\u001b[0m\u001b[0m\n\u001b[0;32m    886\u001b[0m         \u001b[1;32mif\u001b[0m \u001b[0mindex\u001b[0m \u001b[1;33m>\u001b[0m \u001b[0mpattern\u001b[0m\u001b[1;33m.\u001b[0m\u001b[0mgroups\u001b[0m\u001b[1;33m:\u001b[0m\u001b[1;33m\u001b[0m\u001b[0m\n\u001b[1;32m--> 887\u001b[1;33m             \u001b[1;32mraise\u001b[0m \u001b[0ms\u001b[0m\u001b[1;33m.\u001b[0m\u001b[0merror\u001b[0m\u001b[1;33m(\u001b[0m\u001b[1;34m\"invalid group reference %d\"\u001b[0m \u001b[1;33m%\u001b[0m \u001b[0mindex\u001b[0m\u001b[1;33m,\u001b[0m \u001b[0mpos\u001b[0m\u001b[1;33m)\u001b[0m\u001b[1;33m\u001b[0m\u001b[0m\n\u001b[0m\u001b[0;32m    888\u001b[0m         \u001b[1;32mif\u001b[0m \u001b[0mliteral\u001b[0m\u001b[1;33m:\u001b[0m\u001b[1;33m\u001b[0m\u001b[0m\n\u001b[0;32m    889\u001b[0m             \u001b[0mliterals\u001b[0m\u001b[1;33m.\u001b[0m\u001b[0mappend\u001b[0m\u001b[1;33m(\u001b[0m\u001b[1;34m''\u001b[0m\u001b[1;33m.\u001b[0m\u001b[0mjoin\u001b[0m\u001b[1;33m(\u001b[0m\u001b[0mliteral\u001b[0m\u001b[1;33m)\u001b[0m\u001b[1;33m)\u001b[0m\u001b[1;33m\u001b[0m\u001b[0m\n",
      "\u001b[1;31merror\u001b[0m: invalid group reference 1 at position 3"
     ]
    }
   ],
   "source": [
    "import re\n",
    "\n",
    "data = \"\"\"\n",
    "park 800905-1049118\n",
    "kim 700905-1059119\n",
    "\"\"\"\n",
    "pat = re.compile(\"\\d{6}[-]\\d{7}\")\n",
    "print(pat.sub(\"\\g<1>-*******\",data))"
   ]
  },
  {
   "cell_type": "markdown",
   "metadata": {},
   "source": [
    "7-2 정규표현식 시작하기"
   ]
  },
  {
   "cell_type": "code",
   "execution_count": 4,
   "metadata": {},
   "outputs": [
    {
     "name": "stdout",
     "output_type": "stream",
     "text": [
      "<_sre.SRE_Match object; span=(0, 6), match='python'>\n",
      "None\n"
     ]
    }
   ],
   "source": [
    "import re\n",
    "p= re.compile('[a-z]+')\n",
    "\n",
    "#문자열 검색\n",
    "#match: 처음부터 정규식과 매치되는가\n",
    "m= p.match(\"python\") #정규식에 부합-> match 객제 돌려줌\n",
    "print(m)\n",
    "n= p.match(\"3 python\")\n",
    "print(n) #부합하지 않을 경우 NONE"
   ]
  },
  {
   "cell_type": "code",
   "execution_count": 5,
   "metadata": {},
   "outputs": [
    {
     "name": "stdout",
     "output_type": "stream",
     "text": [
      "<_sre.SRE_Match object; span=(0, 6), match='python'>\n",
      "<_sre.SRE_Match object; span=(2, 8), match='python'>\n"
     ]
    }
   ],
   "source": [
    "#search: 전체를 검색하여 매치되는가\n",
    "m= p.search(\"python\")\n",
    "print(m)\n",
    "n= p.search(\"3 python\")\n",
    "print(n)"
   ]
  },
  {
   "cell_type": "code",
   "execution_count": 6,
   "metadata": {},
   "outputs": [
    {
     "name": "stdout",
     "output_type": "stream",
     "text": [
      "['life', 'is', 'too', 'short']\n"
     ]
    }
   ],
   "source": [
    "#findall: 모든 문자열을 리스트화\n",
    "result = p.findall(\"life is too short\")\n",
    "print(result)"
   ]
  },
  {
   "cell_type": "code",
   "execution_count": 8,
   "metadata": {},
   "outputs": [
    {
     "name": "stdout",
     "output_type": "stream",
     "text": [
      "<callable_iterator object at 0x000001427698B7B8>\n",
      "<_sre.SRE_Match object; span=(0, 4), match='life'>\n",
      "<_sre.SRE_Match object; span=(5, 7), match='is'>\n",
      "<_sre.SRE_Match object; span=(8, 11), match='too'>\n",
      "<_sre.SRE_Match object; span=(12, 17), match='short'>\n"
     ]
    }
   ],
   "source": [
    "#finditer: 모든 문자열을 반복가능한 객체화\n",
    "result = p.finditer(\"life is too short\")\n",
    "print(result)\n",
    "for r in result: print(r)"
   ]
  },
  {
   "cell_type": "code",
   "execution_count": 11,
   "metadata": {},
   "outputs": [
    {
     "name": "stdout",
     "output_type": "stream",
     "text": [
      "python\n",
      "0\n",
      "6\n",
      "(0, 6)\n",
      "python\n",
      "2\n",
      "8\n",
      "(2, 8)\n"
     ]
    }
   ],
   "source": [
    "#match객체의 메서드\n",
    "import re\n",
    "p= re.compile('[a-z]+')\n",
    "m= p.match(\"python\")\n",
    "print(m.group())\n",
    "print(m.start())\n",
    "print(m.end())\n",
    "print(m.span())\n",
    "\n",
    "n= p.search(\"3 python\")\n",
    "print(n.group())\n",
    "print(n.start())\n",
    "print(n.end())\n",
    "print(n.span())"
   ]
  },
  {
   "cell_type": "code",
   "execution_count": 12,
   "metadata": {},
   "outputs": [
    {
     "name": "stdout",
     "output_type": "stream",
     "text": [
      "None\n",
      "<_sre.SRE_Match object; span=(0, 3), match='a\\nb'>\n"
     ]
    }
   ],
   "source": [
    "#컴파일 옵션\n",
    "#dotall(s): 줄바꿈 문자를 포함한 모든 문자와 매치\n",
    "import re\n",
    "p= re.compile('a.b')\n",
    "m= p.match('a\\nb')\n",
    "print(m)\n",
    "\n",
    "p= re.compile('a.b', re.DOTALL)\n",
    "m= p.match('a\\nb')\n",
    "print(m)"
   ]
  },
  {
   "cell_type": "code",
   "execution_count": 13,
   "metadata": {},
   "outputs": [
    {
     "name": "stdout",
     "output_type": "stream",
     "text": [
      "<_sre.SRE_Match object; span=(0, 1), match='P'>\n"
     ]
    }
   ],
   "source": [
    "#ignorecase(i): 대소문자 구별없이 매치\n",
    "p= re.compile('[a-z]',re.I)\n",
    "m= p.match('PYthon')\n",
    "print(m)"
   ]
  },
  {
   "cell_type": "code",
   "execution_count": 14,
   "metadata": {},
   "outputs": [
    {
     "name": "stdout",
     "output_type": "stream",
     "text": [
      "['python one']\n",
      "['python one', 'python two', 'python three']\n"
     ]
    }
   ],
   "source": [
    "#multiline(m): ^;시작, $;마지막 메타문자를 문자열의 각 줄마다 적용\n",
    "import re\n",
    "p= re.compile(\"^python\\s\\w+\") #문자열 전체의 처음\n",
    "\n",
    "data= \"\"\"python one\n",
    "life is too short\n",
    "python two\n",
    "you need python\n",
    "python three\"\"\"\n",
    "print(p.findall(data))\n",
    "\n",
    "p= re.compile(\"^python\\s\\w+\", re.MULTILINE) #각 라인의 처음\n",
    "data= \"\"\"python one\n",
    "life is too short\n",
    "python two\n",
    "you need python\n",
    "python three\"\"\"\n",
    "print(p.findall(data))"
   ]
  },
  {
   "cell_type": "code",
   "execution_count": 15,
   "metadata": {},
   "outputs": [],
   "source": [
    "#verbose(x): 정규식을 주석 또는 줄 단위로 구분\n",
    "charref= re.compile(r'&[#](0[0-7]+|[0-9]+|x[0-9a-fA-F]+);')\n",
    "charref= re.compile(r\"\"\"\n",
    "&[#]\n",
    "(0[0-7]+\n",
    "|[0-9]+\n",
    "|x[0-9a-fA-F]+\n",
    ")\n",
    ";\n",
    "\"\"\",re.VERBOSE)"
   ]
  },
  {
   "cell_type": "code",
   "execution_count": 16,
   "metadata": {},
   "outputs": [],
   "source": [
    "#\\가 문자-> \\\\\n",
    "p= re.compile('\\\\\\\\section')\n",
    "p= re.compile(r'\\\\section')"
   ]
  },
  {
   "cell_type": "markdown",
   "metadata": {},
   "source": [
    "7-3 강력한 정규 표현식의 세계로"
   ]
  },
  {
   "cell_type": "code",
   "execution_count": 2,
   "metadata": {},
   "outputs": [
    {
     "name": "stdout",
     "output_type": "stream",
     "text": [
      "<_sre.SRE_Match object; span=(0, 4), match='Crow'>\n",
      "<_sre.SRE_Match object; span=(0, 4), match='Life'>\n",
      "None\n",
      "<_sre.SRE_Match object; span=(0, 4), match='Life'>\n",
      "<_sre.SRE_Match object; span=(11, 16), match='short'>\n",
      "None\n",
      "<_sre.SRE_Match object; span=(11, 16), match='short'>\n",
      "<_sre.SRE_Match object; span=(3, 8), match='class'>\n",
      "None\n",
      "None\n",
      "<_sre.SRE_Match object; span=(6, 11), match='class'>\n",
      "None\n"
     ]
    }
   ],
   "source": [
    "#메타문자\n",
    "# |; 또는\n",
    "import re\n",
    "p= re.compile('Crow|Servo')\n",
    "m= p.match(\"CrowHello\")\n",
    "print(m)\n",
    "\n",
    "# ^(re.MULTILINE 옵션 적용), \\A; 문자열 맨처음\n",
    "print(re.search('^Life','Life is too short'))\n",
    "print(re.search('^Life',\"My Life\"))\n",
    "print(re.search('\\ALife','Life is too short'))\n",
    "\n",
    "# $(re.MULTILINE 옵션 적용), \\Z; 문자열 맨끝\n",
    "print(re.search('short$',\"My life is short\"))\n",
    "print(re.search('short$',\"short life\"))\n",
    "print(re.search('short\\Z','My life is short'))\n",
    "\n",
    "# \\b; 단어구분자(' ')를 의미 -> raw string규칙 꼭!\n",
    "p= re.compile(r'\\bclass\\b')\n",
    "print(p.search('no class at all'))\n",
    "print(p.search('the declassified algorithm'))\n",
    "\n",
    "# \\B; ' '로 구분된 단어가 아닌 경우\n",
    "p= re.compile(r'\\Bclass\\B')\n",
    "print(p.search('no class at all'))\n",
    "print(p.search('the declassified algorithm'))\n",
    "print(p.search('one subclass is'))"
   ]
  },
  {
   "cell_type": "code",
   "execution_count": 7,
   "metadata": {},
   "outputs": [
    {
     "name": "stdout",
     "output_type": "stream",
     "text": [
      "<_sre.SRE_Match object; span=(0, 9), match='ABCABCABC'>\n",
      "ABCABCABC\n",
      "park 010-1234-5678\n",
      "park\n",
      "010\n",
      "the the\n"
     ]
    }
   ],
   "source": [
    "#그루핑\n",
    "import re\n",
    "p= re.compile('(ABC)+')\n",
    "m= p.search('ABCABCABC OK?')\n",
    "print(m)\n",
    "print(m.group())\n",
    "\n",
    "p= re.compile(r\"\\w+\\s+\\d+[-]\\d+[-]\\d+\")\n",
    "m= p.search(\"park 010-1234-5678\")\n",
    "\n",
    "p= re.compile(r\"(\\w+)\\s+((\\d+)[-]\\d+[-]\\d+)\")\n",
    "m= p.search(\"park 010-1234-5678\")\n",
    "print(m.group(0))\n",
    "print(m.group(1))\n",
    "print(m.group(3))\n",
    "\n",
    "#그루핑된 문자열을 재참조\n",
    "p= re.compile(r'(\\b\\w+)\\s+\\1')\n",
    "m= p.search('Paris in the the spring')\n",
    "print(m.group())"
   ]
  },
  {
   "cell_type": "code",
   "execution_count": 8,
   "metadata": {},
   "outputs": [
    {
     "name": "stdout",
     "output_type": "stream",
     "text": [
      "park\n"
     ]
    },
    {
     "data": {
      "text/plain": [
       "'the the'"
      ]
     },
     "execution_count": 8,
     "metadata": {},
     "output_type": "execute_result"
    }
   ],
   "source": [
    "#그루핑된 문자열에 이름 붙이기\n",
    "p= re.compile(r\"(?P<name>\\w+)\\s+((\\d+)[-]\\d+[-]\\d+)\")\n",
    "m= p.search(\"park 010-1234-5678\")\n",
    "print(m.group(\"name\"))\n",
    "\n",
    "p= re.compile(r\"(?P<word>\\b\\w+)\\s+(?P=word)\")\n",
    "p.search('Paris in the the spring').group()"
   ]
  },
  {
   "cell_type": "code",
   "execution_count": 17,
   "metadata": {},
   "outputs": [
    {
     "name": "stdout",
     "output_type": "stream",
     "text": [
      "http:\n",
      "http\n",
      "None\n",
      "autoexec.\n",
      "None\n"
     ]
    }
   ],
   "source": [
    "#전방 탐색\n",
    "p= re.compile(\".+:\")\n",
    "m= p.search(\"http://naver.com\")\n",
    "print(m.group())\n",
    "\n",
    "#긍정형 전방 탐색\n",
    "p= re.compile(\".+(?=:)\")\n",
    "m= p.search(\"http://naver.com\")\n",
    "print(m.group())\n",
    "\n",
    "p= re.compile(\".*[.](?=[^b]..|.[^a].|..[^t])\")\n",
    "m= p.search(\"autoexec.bat\")\n",
    "print(m)\n",
    "m= p.search(\"autoexec.bas\")\n",
    "print(m.group())\n",
    "\n",
    "#부정형 전방 탐색\n",
    "p= re.compile(\".*[.](?!bat)\")\n",
    "m= p.search(\"autoexec.bat\")\n",
    "print(m)"
   ]
  },
  {
   "cell_type": "code",
   "execution_count": 23,
   "metadata": {},
   "outputs": [
    {
     "name": "stdout",
     "output_type": "stream",
     "text": [
      "colour socks and colour shoes\n",
      "colour socks and red shoes\n",
      "('colour socks and colour shoes', 2)\n"
     ]
    }
   ],
   "source": [
    "#문자열 바꾸기 -> sub(바꿀문자열, 대상문자열)\n",
    "p= re.compile('(blue|white|red)')\n",
    "print(p.sub('colour','blue socks and red shoes'))\n",
    "print(p.sub('colour','blue socks and red shoes',count=1)) #횟수 제한\n",
    "\n",
    "#subn; 튜플로 돌려준다. #(문자열, 바꾼 횟수)\n",
    "p= re.compile('(blue|white|red)')\n",
    "print(p.subn('colour','blue socks and red shoes'))"
   ]
  },
  {
   "cell_type": "code",
   "execution_count": 25,
   "metadata": {},
   "outputs": [
    {
     "name": "stdout",
     "output_type": "stream",
     "text": [
      "010-1234-1234 park\n"
     ]
    }
   ],
   "source": [
    "p= re.compile(r\"(?P<name>\\w+)\\s+(?P<phone>(\\d+)[-]\\d+[-]\\d+)\")\n",
    "print(p.sub(\"\\g<phone> \\g<name>\", \"park 010-1234-1234\")) #\\g<그룹이름>; 그룹이름 참조 가능"
   ]
  },
  {
   "cell_type": "code",
   "execution_count": 26,
   "metadata": {},
   "outputs": [
    {
     "data": {
      "text/plain": [
       "'Call 0xffd2 for printing, 0xc000 for user code.'"
      ]
     },
     "execution_count": 26,
     "metadata": {},
     "output_type": "execute_result"
    }
   ],
   "source": [
    "#sub의 첫매개변수-> 함수; 해당함수의 첫매개변수에 match객체가 입력되고 이는 함수의 반환 값으로 변환\n",
    "def hexrepl(match):\n",
    "    value= int(match.group())\n",
    "    return hex(value) #16진수로 변환\n",
    "p= re.compile(r'\\d+')\n",
    "p.sub(hexrepl, 'Call 65490 for printing, 49152 for user code.')"
   ]
  },
  {
   "cell_type": "code",
   "execution_count": 27,
   "metadata": {},
   "outputs": [
    {
     "name": "stdout",
     "output_type": "stream",
     "text": [
      "(0, 32)\n",
      "<html><head><title>Title</title>\n",
      "<html>\n"
     ]
    }
   ],
   "source": [
    "s= '<html><head><title>Title</title>'\n",
    "len(s)\n",
    "print(re.match('<.*>',s).span())\n",
    "print(re.match('<.*>',s).group()) #greedy\n",
    "\n",
    "print(re.match('<.*?>',s).group()) #non-greedy; 가장 최소한의 반복을 수행하도록 도와준다."
   ]
  },
  {
   "cell_type": "code",
   "execution_count": null,
   "metadata": {},
   "outputs": [],
   "source": []
  }
 ],
 "metadata": {
  "kernelspec": {
   "display_name": "Python 3",
   "language": "python",
   "name": "python3"
  },
  "language_info": {
   "codemirror_mode": {
    "name": "ipython",
    "version": 3
   },
   "file_extension": ".py",
   "mimetype": "text/x-python",
   "name": "python",
   "nbconvert_exporter": "python",
   "pygments_lexer": "ipython3",
   "version": "3.6.5"
  }
 },
 "nbformat": 4,
 "nbformat_minor": 2
}
