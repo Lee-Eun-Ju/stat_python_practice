{
 "cells": [
  {
   "cell_type": "markdown",
   "metadata": {},
   "source": [
    "# Chap4.프로그램의 입력과 출력"
   ]
  },
  {
   "cell_type": "markdown",
   "metadata": {},
   "source": [
    "4-1.함수"
   ]
  },
  {
   "cell_type": "code",
   "execution_count": 1,
   "metadata": {},
   "outputs": [
    {
     "name": "stdout",
     "output_type": "stream",
     "text": [
      "8\n"
     ]
    }
   ],
   "source": [
    "a=5; b=3\n",
    "def add(x, y): #x,y는 매개변수\n",
    "    return x+y\n",
    "print(add(a,b)) #a,b는 인수"
   ]
  },
  {
   "cell_type": "code",
   "execution_count": 2,
   "metadata": {},
   "outputs": [
    {
     "name": "stdout",
     "output_type": "stream",
     "text": [
      "Hi\n"
     ]
    }
   ],
   "source": [
    "#입력값, 즉 매개변수가 없는 함수\n",
    "def say():\n",
    "    return 'Hi'\n",
    "x=say()\n",
    "print(x)"
   ]
  },
  {
   "cell_type": "code",
   "execution_count": 6,
   "metadata": {},
   "outputs": [
    {
     "name": "stdout",
     "output_type": "stream",
     "text": [
      "4와 6의 합은 10입니다.\n",
      "4와 6의 합은 10입니다.\n",
      "None\n"
     ]
    }
   ],
   "source": [
    "#결과값이 없는 함수\n",
    "def add(a,b):\n",
    "    print(\"%d와 %d의 합은 %d입니다.\" % (a,b,a+b))\n",
    "\n",
    "add(4,6)\n",
    "print(add(4,6)) #add함수는 결과값이 없으므로 NONE 출력"
   ]
  },
  {
   "cell_type": "code",
   "execution_count": 7,
   "metadata": {},
   "outputs": [
    {
     "name": "stdout",
     "output_type": "stream",
     "text": [
      "Hi\n"
     ]
    }
   ],
   "source": [
    "#입력값도 결과값도 없는 함수\n",
    "def say():\n",
    "    print('Hi')\n",
    "say()"
   ]
  },
  {
   "cell_type": "code",
   "execution_count": 8,
   "metadata": {},
   "outputs": [
    {
     "name": "stdout",
     "output_type": "stream",
     "text": [
      "1\n"
     ]
    }
   ],
   "source": [
    "def fun(a,b):\n",
    "    return int((a*b + b) % a)\n",
    "print(fun(b=7,a=2))"
   ]
  },
  {
   "cell_type": "code",
   "execution_count": 9,
   "metadata": {},
   "outputs": [
    {
     "name": "stdout",
     "output_type": "stream",
     "text": [
      "547\n"
     ]
    }
   ],
   "source": [
    "def add(*all):\n",
    "    result=0\n",
    "    for i in all:\n",
    "        result=result+i\n",
    "    return result\n",
    "a= add(1,2,3,25,3,35,15,456,7)\n",
    "print(a)"
   ]
  },
  {
   "cell_type": "code",
   "execution_count": 15,
   "metadata": {},
   "outputs": [
    {
     "name": "stdout",
     "output_type": "stream",
     "text": [
      "2268\n"
     ]
    }
   ],
   "source": [
    "def add_mul(x,*y):\n",
    "    if x== \"add\":\n",
    "        result=0\n",
    "        for i in y:\n",
    "            result = result+i\n",
    "    elif x== \"mul\":\n",
    "        result=1\n",
    "        for i in y:\n",
    "            result = result*i\n",
    "    return result\n",
    "k= add_mul(\"mul\",3,4,7,3,9)\n",
    "print(k)"
   ]
  },
  {
   "cell_type": "code",
   "execution_count": 22,
   "metadata": {},
   "outputs": [
    {
     "ename": "TypeError",
     "evalue": "unsupported operand type(s) for +: 'dict' and 'int'",
     "output_type": "error",
     "traceback": [
      "\u001b[1;31m---------------------------------------------------------------------------\u001b[0m",
      "\u001b[1;31mTypeError\u001b[0m                                 Traceback (most recent call last)",
      "\u001b[1;32m<ipython-input-22-2c942a109787>\u001b[0m in \u001b[0;36m<module>\u001b[1;34m()\u001b[0m\n\u001b[0;32m      2\u001b[0m \u001b[1;32mdef\u001b[0m \u001b[0mdic\u001b[0m\u001b[1;33m(\u001b[0m\u001b[1;33m**\u001b[0m\u001b[0mkey\u001b[0m\u001b[1;33m)\u001b[0m\u001b[1;33m:\u001b[0m\u001b[1;33m\u001b[0m\u001b[0m\n\u001b[0;32m      3\u001b[0m      \u001b[0mprint\u001b[0m\u001b[1;33m(\u001b[0m\u001b[0mkey\u001b[0m\u001b[1;33m+\u001b[0m\u001b[1;36m9\u001b[0m\u001b[1;33m)\u001b[0m\u001b[1;33m\u001b[0m\u001b[0m\n\u001b[1;32m----> 4\u001b[1;33m \u001b[0mdic\u001b[0m\u001b[1;33m(\u001b[0m\u001b[0mkey\u001b[0m\u001b[1;33m=\u001b[0m\u001b[1;36m8\u001b[0m\u001b[1;33m)\u001b[0m\u001b[1;33m\u001b[0m\u001b[0m\n\u001b[0m",
      "\u001b[1;32m<ipython-input-22-2c942a109787>\u001b[0m in \u001b[0;36mdic\u001b[1;34m(**key)\u001b[0m\n\u001b[0;32m      1\u001b[0m \u001b[1;31m#키워드 파라미터\u001b[0m\u001b[1;33m\u001b[0m\u001b[1;33m\u001b[0m\u001b[0m\n\u001b[0;32m      2\u001b[0m \u001b[1;32mdef\u001b[0m \u001b[0mdic\u001b[0m\u001b[1;33m(\u001b[0m\u001b[1;33m**\u001b[0m\u001b[0mkey\u001b[0m\u001b[1;33m)\u001b[0m\u001b[1;33m:\u001b[0m\u001b[1;33m\u001b[0m\u001b[0m\n\u001b[1;32m----> 3\u001b[1;33m      \u001b[0mprint\u001b[0m\u001b[1;33m(\u001b[0m\u001b[0mkey\u001b[0m\u001b[1;33m+\u001b[0m\u001b[1;36m9\u001b[0m\u001b[1;33m)\u001b[0m\u001b[1;33m\u001b[0m\u001b[0m\n\u001b[0m\u001b[0;32m      4\u001b[0m \u001b[0mdic\u001b[0m\u001b[1;33m(\u001b[0m\u001b[0mkey\u001b[0m\u001b[1;33m=\u001b[0m\u001b[1;36m8\u001b[0m\u001b[1;33m)\u001b[0m\u001b[1;33m\u001b[0m\u001b[0m\n",
      "\u001b[1;31mTypeError\u001b[0m: unsupported operand type(s) for +: 'dict' and 'int'"
     ]
    }
   ],
   "source": [
    "#키워드 파라미터\n",
    "def dic(**key):  #**매개면수; 매개변수는 딕셔너리가 된다. 즉 연산이 불가능하다\n",
    "     print(key+9)\n",
    "dic(k=8)"
   ]
  },
  {
   "cell_type": "code",
   "execution_count": 26,
   "metadata": {},
   "outputs": [
    {
     "name": "stdout",
     "output_type": "stream",
     "text": [
      "(9, 20)\n",
      "9 20\n",
      "9\n"
     ]
    }
   ],
   "source": [
    "#결과값이 2개 이상일 때\n",
    "def am(a,m):\n",
    "    return a+m,a*m\n",
    "result= am(4,5)\n",
    "print(result) #튜플 값을 갖게 된다.\n",
    "\n",
    "result1,result2= am(4,5)\n",
    "print(result1,result2)\n",
    "\n",
    "def am1(a,m):\n",
    "    return a+m\n",
    "    return a*m\n",
    "result3= am1(4,5)\n",
    "print(result3) #두번째 return값은 실행되지 않는다."
   ]
  },
  {
   "cell_type": "code",
   "execution_count": 30,
   "metadata": {},
   "outputs": [
    {
     "name": "stdout",
     "output_type": "stream",
     "text": [
      "나의 별명은 똥 입니다.\n",
      "나의 별명은 똥쟁이 입니다.\n"
     ]
    }
   ],
   "source": [
    "#return 단독 사용-> 함수 빠져나오기\n",
    "def say(name):\n",
    "    if name==\"이은주\":\n",
    "        return\n",
    "    print(\"나의 별명은 %s 입니다.\" % name)\n",
    "say(\"똥\")\n",
    "say(\"이은주\")\n",
    "say(\"똥쟁이\")"
   ]
  },
  {
   "cell_type": "code",
   "execution_count": 33,
   "metadata": {},
   "outputs": [
    {
     "name": "stdout",
     "output_type": "stream",
     "text": [
      "나의 이름은 이은주이고 22살 남자입니다.\n",
      "나의 이름은 이은주이고 22살 여자입니다.\n"
     ]
    }
   ],
   "source": [
    "#매개변수의 초기값 미리 설정-> 적용되는 매개변수를 알기 어려우므로 맨 뒤쪽에 위치\n",
    "def say_myself(name,old,man=True):\n",
    "    if man==True:\n",
    "        print(\"나의 이름은 %s이고 %d살 남자입니다.\" % (name,old))\n",
    "    else:\n",
    "        print(\"나의 이름은 %s이고 %d살 여자입니다.\" % (name,old))\n",
    "say_myself(\"이은주\",22)\n",
    "say_myself(\"이은주\",22,False)"
   ]
  },
  {
   "cell_type": "code",
   "execution_count": 36,
   "metadata": {},
   "outputs": [
    {
     "name": "stdout",
     "output_type": "stream",
     "text": [
      "2\n",
      "2\n"
     ]
    }
   ],
   "source": [
    "#함수 안에서 함수 밖의 변수를 변경하는 법\n",
    "a=1\n",
    "def var(a):\n",
    "    a=a+1\n",
    "    return a\n",
    "a=var(a)\n",
    "print(a)\n",
    "\n",
    "a=1\n",
    "def var1():\n",
    "    global a #함수 밖의 변수 불러오기; global\n",
    "    a=a+1\n",
    "var1()\n",
    "print(a)"
   ]
  },
  {
   "cell_type": "code",
   "execution_count": 37,
   "metadata": {},
   "outputs": [
    {
     "name": "stdout",
     "output_type": "stream",
     "text": [
      "8\n"
     ]
    }
   ],
   "source": [
    "#lambda; def와 동일한 역할\n",
    "add = lambda a,b:a+b\n",
    "print(add(3,5))"
   ]
  },
  {
   "cell_type": "markdown",
   "metadata": {},
   "source": [
    "4-2.사용자 입력과 출력"
   ]
  },
  {
   "cell_type": "code",
   "execution_count": 38,
   "metadata": {},
   "outputs": [
    {
     "name": "stdout",
     "output_type": "stream",
     "text": [
      "질문하세요.왜 너는 이은주입니까\n",
      "왜 너는 이은주입니까\n"
     ]
    }
   ],
   "source": [
    "#입력-> input:문자열 취급\n",
    "why = input(\"질문하세요.\")\n",
    "print(why)"
   ]
  },
  {
   "cell_type": "code",
   "execution_count": 40,
   "metadata": {},
   "outputs": [
    {
     "name": "stdout",
     "output_type": "stream",
     "text": [
      "463 안녕 [3, 6, 9]\n",
      "Lifeis short\n",
      "1 2 3 4 5 6 7 8 9 "
     ]
    }
   ],
   "source": [
    "a=463\n",
    "b=\"안녕\"\n",
    "c=[3,6,9]\n",
    "print(a,b,c)\n",
    "\n",
    "print(\"Life\"\"is\",\"short\")\n",
    "\n",
    "for i in range(1,10):\n",
    "    print(i,end=\" \")"
   ]
  },
  {
   "cell_type": "markdown",
   "metadata": {},
   "source": [
    "4-3.파일 읽고 쓰기"
   ]
  },
  {
   "cell_type": "code",
   "execution_count": 43,
   "metadata": {},
   "outputs": [],
   "source": [
    "f= open(\"새파일.txt\",\"w\") #w:쓰기, r:읽기, a:추가\n",
    "f.close()\n",
    "#위치 설정하지 않았을 경우, 파이썬 저장되어있는 위치에 저장"
   ]
  },
  {
   "cell_type": "code",
   "execution_count": 46,
   "metadata": {},
   "outputs": [
    {
     "name": "stdout",
     "output_type": "stream",
     "text": [
      "<_io.TextIOWrapper name='새파일.txt' mode='r' encoding='cp949'>\n"
     ]
    }
   ],
   "source": [
    "#파일에 쓰기\n",
    "f=open(\"새파일.txt\",\"w\")\n",
    "for i in range(1,11):\n",
    "    data=\"%d번째 줄입니다.\\n\" % i\n",
    "    f.write(data)\n",
    "f.close()"
   ]
  },
  {
   "cell_type": "code",
   "execution_count": 53,
   "metadata": {},
   "outputs": [
    {
     "name": "stdout",
     "output_type": "stream",
     "text": [
      "1번째 줄입니다.\n",
      "\n",
      "2번째 줄입니다.\n",
      "\n",
      "3번째 줄입니다.\n",
      "\n",
      "4번째 줄입니다.\n",
      "\n",
      "5번째 줄입니다.\n",
      "\n",
      "6번째 줄입니다.\n",
      "\n",
      "7번째 줄입니다.\n",
      "\n",
      "8번째 줄입니다.\n",
      "\n",
      "9번째 줄입니다.\n",
      "\n",
      "10번째 줄입니다.\n",
      "\n"
     ]
    }
   ],
   "source": [
    "#파일을 읽기\n",
    "f= open(\"새파일.txt\",\"r\")\n",
    "\n",
    "#첫번째 줄만 읽기-readline\n",
    "line=f.readline()\n",
    "print(line)\n",
    "\n",
    "#모든줄 읽기-readline\n",
    "while True:\n",
    "    line=f.readline()\n",
    "    if not line:break\n",
    "    print(line)\n",
    "\n",
    "#while 1: #while 1은 항상 참을 의미하므로 무한루프, 0일 경우 항상 거짓이므로 실행되지 않는다.\n",
    "#    data=input()\n",
    "#    if not data: break\n",
    "#    print(data)"
   ]
  },
  {
   "cell_type": "code",
   "execution_count": 57,
   "metadata": {},
   "outputs": [
    {
     "name": "stdout",
     "output_type": "stream",
     "text": [
      "['1번째 줄입니다.\\n', '2번째 줄입니다.\\n', '3번째 줄입니다.\\n', '4번째 줄입니다.\\n', '5번째 줄입니다.\\n', '6번째 줄입니다.\\n', '7번째 줄입니다.\\n', '8번째 줄입니다.\\n', '9번째 줄입니다.\\n', '10번째 줄입니다.\\n']\n",
      "1번째 줄입니다.\n",
      "\n",
      "2번째 줄입니다.\n",
      "\n",
      "3번째 줄입니다.\n",
      "\n",
      "4번째 줄입니다.\n",
      "\n",
      "5번째 줄입니다.\n",
      "\n",
      "6번째 줄입니다.\n",
      "\n",
      "7번째 줄입니다.\n",
      "\n",
      "8번째 줄입니다.\n",
      "\n",
      "9번째 줄입니다.\n",
      "\n",
      "10번째 줄입니다.\n",
      "\n"
     ]
    }
   ],
   "source": [
    "#모든줄 읽기-readlines: 리스트화된다.\n",
    "f= open(\"새파일.txt\",\"r\")\n",
    "lines=f.readlines()\n",
    "print(lines)\n",
    "\n",
    "for k in lines:\n",
    "    print(k)"
   ]
  },
  {
   "cell_type": "code",
   "execution_count": 58,
   "metadata": {},
   "outputs": [
    {
     "name": "stdout",
     "output_type": "stream",
     "text": [
      "1번째 줄입니다.\n",
      "2번째 줄입니다.\n",
      "3번째 줄입니다.\n",
      "4번째 줄입니다.\n",
      "5번째 줄입니다.\n",
      "6번째 줄입니다.\n",
      "7번째 줄입니다.\n",
      "8번째 줄입니다.\n",
      "9번째 줄입니다.\n",
      "10번째 줄입니다.\n",
      "\n"
     ]
    }
   ],
   "source": [
    "#파일 내용 전체를 문자열-read\n",
    "f=open(\"새파일.txt\",\"r\")\n",
    "data=f.read()\n",
    "print(data)\n",
    "f.close()"
   ]
  },
  {
   "cell_type": "code",
   "execution_count": 60,
   "metadata": {},
   "outputs": [],
   "source": [
    "#새로운 내용 추가\n",
    "f=open(\"새파일.txt\",\"a\")\n",
    "for i in range(11,20):\n",
    "    data=\"%d번째 줄\" % i\n",
    "    f.write(data)\n",
    "f.close()"
   ]
  },
  {
   "cell_type": "code",
   "execution_count": 62,
   "metadata": {},
   "outputs": [],
   "source": [
    "#파일 자동 열고 닫기-with\n",
    "with open(\"with.txt\",\"w\") as f:\n",
    "    f.write(\"Life is short\")\n",
    "#with문이 끝나면 자동으로 닫아진다."
   ]
  },
  {
   "cell_type": "code",
   "execution_count": null,
   "metadata": {},
   "outputs": [],
   "source": []
  }
 ],
 "metadata": {
  "kernelspec": {
   "display_name": "Python 3",
   "language": "python",
   "name": "python3"
  },
  "language_info": {
   "codemirror_mode": {
    "name": "ipython",
    "version": 3
   },
   "file_extension": ".py",
   "mimetype": "text/x-python",
   "name": "python",
   "nbconvert_exporter": "python",
   "pygments_lexer": "ipython3",
   "version": "3.6.5"
  }
 },
 "nbformat": 4,
 "nbformat_minor": 2
}
