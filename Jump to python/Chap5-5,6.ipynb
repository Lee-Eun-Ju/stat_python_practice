{
 "cells": [
  {
   "cell_type": "markdown",
   "metadata": {},
   "source": [
    "# Chap5. 파이썬 날개 달기"
   ]
  },
  {
   "cell_type": "markdown",
   "metadata": {},
   "source": [
    "5-5.내장함수"
   ]
  },
  {
   "cell_type": "code",
   "execution_count": 10,
   "metadata": {},
   "outputs": [
    {
     "name": "stdout",
     "output_type": "stream",
     "text": [
      "54656\n",
      "False\n",
      "True\n",
      "True\n",
      "False\n"
     ]
    }
   ],
   "source": [
    "#절대값\n",
    "print(abs(-54656))\n",
    "\n",
    "#반복 가능한 자료형 x; 모두참-True, 하나라도 거짓-False\n",
    "print(all([2,4,6,0]))\n",
    "print(all([4,7,10,14]))\n",
    "\n",
    "#반복 가능한 자료형 x; 하나라도 참-True, 모두거짓-False\n",
    "print(any((2,7,256,0)))\n",
    "print(any([0,\"\"]))"
   ]
  },
  {
   "cell_type": "code",
   "execution_count": 15,
   "metadata": {},
   "outputs": [
    {
     "name": "stdout",
     "output_type": "stream",
     "text": [
      "\u0000\n",
      "a\n",
      "0\n",
      "\n"
     ]
    }
   ],
   "source": [
    "#아스키코드\n",
    "print(chr(0))\n",
    "print(chr(97))\n",
    "print(chr(48))\n",
    "print(chr(127))"
   ]
  },
  {
   "cell_type": "code",
   "execution_count": 18,
   "metadata": {},
   "outputs": [
    {
     "name": "stdout",
     "output_type": "stream",
     "text": [
      "['__add__', '__class__', '__contains__', '__delattr__', '__delitem__', '__dir__', '__doc__', '__eq__', '__format__', '__ge__', '__getattribute__', '__getitem__', '__gt__', '__hash__', '__iadd__', '__imul__', '__init__', '__init_subclass__', '__iter__', '__le__', '__len__', '__lt__', '__mul__', '__ne__', '__new__', '__reduce__', '__reduce_ex__', '__repr__', '__reversed__', '__rmul__', '__setattr__', '__setitem__', '__sizeof__', '__str__', '__subclasshook__', 'append', 'clear', 'copy', 'count', 'extend', 'index', 'insert', 'pop', 'remove', 'reverse', 'sort']\n",
      "['__class__', '__contains__', '__delattr__', '__delitem__', '__dir__', '__doc__', '__eq__', '__format__', '__ge__', '__getattribute__', '__getitem__', '__gt__', '__hash__', '__init__', '__init_subclass__', '__iter__', '__le__', '__len__', '__lt__', '__ne__', '__new__', '__reduce__', '__reduce_ex__', '__repr__', '__setattr__', '__setitem__', '__sizeof__', '__str__', '__subclasshook__', 'clear', 'copy', 'fromkeys', 'get', 'items', 'keys', 'pop', 'popitem', 'setdefault', 'update', 'values']\n",
      "(5, 2)\n",
      "5\n",
      "2\n"
     ]
    }
   ],
   "source": [
    "#객체(리스트,딕셔너리..)와 관련된 변수나 함수\n",
    "print(dir([1,5,7]))\n",
    "print(dir({'5':\"안녕\"}))\n",
    "\n",
    "#튜플(몫,나머지)\n",
    "print(divmod(37,7))\n",
    "print(37//7) #몫\n",
    "print(37%7) #나머지"
   ]
  },
  {
   "cell_type": "code",
   "execution_count": 23,
   "metadata": {},
   "outputs": [
    {
     "name": "stdout",
     "output_type": "stream",
     "text": [
      "0 body\n",
      "1 foo\n",
      "2 bar\n",
      "7\n",
      "이은주\n",
      "<class 'list'>\n"
     ]
    }
   ],
   "source": [
    "#순서자료형->index값\n",
    "for i, name in enumerate(['body','foo','bar']):\n",
    "    print(i,name)\n",
    "\n",
    "#문자열->계산 가능\n",
    "print(eval('2+5'))\n",
    "print(eval(\"'이'+'은주'\"))\n",
    "print(eval('type([1,2])'))"
   ]
  },
  {
   "cell_type": "code",
   "execution_count": 4,
   "metadata": {},
   "outputs": [
    {
     "name": "stdout",
     "output_type": "stream",
     "text": [
      "[1, 2]\n",
      "[1, 2]\n",
      "[1, 4]\n"
     ]
    }
   ],
   "source": [
    "#참인 경우 출력\n",
    "def positive(a):\n",
    "    result=[]\n",
    "    for i in a:\n",
    "        if i>0:\n",
    "            result.append(i)\n",
    "    return result\n",
    "print(positive([1,-3,2,0,-5]))\n",
    "\n",
    "def pos(a):\n",
    "    return a>0\n",
    "print(list(filter(pos,[1,-3,2,0,-5])))\n",
    "\n",
    "print(list(filter(lambda a: a>0, [1,-5,4,0]))) #lambda; 즉석에서 생성하고 반환하는 함수"
   ]
  },
  {
   "cell_type": "code",
   "execution_count": 20,
   "metadata": {},
   "outputs": [
    {
     "name": "stdout",
     "output_type": "stream",
     "text": [
      "0xea\n",
      "0x3\n",
      "1504734336 1504734336 1504734336\n",
      "1504734400\n",
      "0o42 0o30071\n",
      "97\n",
      "48\n"
     ]
    }
   ],
   "source": [
    "#16진수로 변환\n",
    "print(hex(234))\n",
    "print(hex(3))\n",
    "\n",
    "#객체의 고유 주소값\n",
    "a= 3; b= a\n",
    "print(id(3), id(a), id(b))\n",
    "print(id(5))\n",
    "\n",
    "#8진수로 변환\n",
    "print(oct(34), oct(12345))\n",
    "\n",
    "#아스키코드 값으로 변환\n",
    "print(ord('a'))\n",
    "print(ord('0'))"
   ]
  },
  {
   "cell_type": "code",
   "execution_count": 13,
   "metadata": {},
   "outputs": [
    {
     "name": "stdout",
     "output_type": "stream",
     "text": [
      "입력하세요: hi\n",
      "hi\n",
      "3\n",
      "3\n",
      "3\n",
      "26\n",
      "True\n",
      "False\n"
     ]
    }
   ],
   "source": [
    "#입력\n",
    "a= input(\"입력하세요: \")\n",
    "print(a)\n",
    "\n",
    "#문자열/소수 형태-> 정수 형태로 변환\n",
    "#int(x, radix); radix진수로 표현된 문자열x를 10진수로 변환\n",
    "print(int('3'))\n",
    "print(int(3.899))\n",
    "print(int('11',2))\n",
    "print(int('1A',16))\n",
    "\n",
    "#클래스의 인스턴스인지 판단\n",
    "class Person: pass\n",
    "a= Person()\n",
    "b= 3\n",
    "print(isinstance(a,Person))\n",
    "print(isinstance(b,Person))"
   ]
  },
  {
   "cell_type": "code",
   "execution_count": 17,
   "metadata": {},
   "outputs": [
    {
     "name": "stdout",
     "output_type": "stream",
     "text": [
      "6\n",
      "2\n",
      "['p', 'y', 't', 'h', 'o', 'n']\n",
      "[1, 435, 25]\n",
      "3\n",
      "y\n",
      "3\n",
      "h\n"
     ]
    }
   ],
   "source": [
    "#입력값의 길이\n",
    "print(len('python'))\n",
    "print(len([1,'abc']))\n",
    "\n",
    "#리스트화\n",
    "print(list('python'))\n",
    "print(list((1,435,25)))\n",
    "\n",
    "#최대값\n",
    "print(max([1,2,3]))\n",
    "print(max('python'))\n",
    "\n",
    "#최소값\n",
    "print(min([3,8,94]))\n",
    "print(min('python'))"
   ]
  },
  {
   "cell_type": "code",
   "execution_count": 19,
   "metadata": {},
   "outputs": [
    {
     "name": "stdout",
     "output_type": "stream",
     "text": [
      "[2, 10, 20]\n",
      "[2, 6, 12]\n",
      "[2, 6, 12]\n"
     ]
    }
   ],
   "source": [
    "#한꺼번에 결과값 출력\n",
    "def two_times(numberlist):\n",
    "    result= []\n",
    "    for number in numberlist:\n",
    "        result.append(number*2)\n",
    "    return result\n",
    "\n",
    "abc = two_times([1,5,10])\n",
    "print(abc)\n",
    "\n",
    "def two(x): return x*2\n",
    "print(list(map(two,[1,3,6])))\n",
    "\n",
    "print(list(map(lambda x: x*2,[1,3,6])))"
   ]
  },
  {
   "cell_type": "code",
   "execution_count": 22,
   "metadata": {},
   "outputs": [
    {
     "name": "stdout",
     "output_type": "stream",
     "text": [
      "243\n",
      "8\n"
     ]
    }
   ],
   "source": [
    "#파일 열기 -> w(쓰기), r(읽기), a(추가), b(바이너리 모드)\n",
    "#f= open(\"binary_file\",\"rb\") #바이너리 읽기\n",
    "#fread= open(\"read_mode.txt\",\"r\")\n",
    "#fread2= open(\"read_mode.txt\")\n",
    "#fappend= open(\"append_mode.txt\",\"a\")\n",
    "\n",
    "#x^y\n",
    "print(pow(3,5))\n",
    "print(pow(2,3))"
   ]
  },
  {
   "cell_type": "code",
   "execution_count": 27,
   "metadata": {},
   "outputs": [
    {
     "name": "stdout",
     "output_type": "stream",
     "text": [
      "[0, 3, 6]\n",
      "[9, 10, 11, 12]\n",
      "[-3, -5]\n",
      "5 4\n",
      "5.27\n",
      "[4, 16, 26, 87]\n",
      "['b', 'c', 'k']\n",
      "['h', 'n', 'o', 'p', 't', 'y']\n",
      "50\n",
      "23\n"
     ]
    }
   ],
   "source": [
    "#범위값\n",
    "print(list(range(0,7,3)))\n",
    "print(list(range(9,13)))\n",
    "print(list(range(-3,-7,-2)))\n",
    "\n",
    "#반올림\n",
    "print(round(4.7), round(4.3))\n",
    "print(round(5.2674,2))\n",
    "\n",
    "#정렬 후 리스트화\n",
    "print(sorted([87,26,4,16]))\n",
    "print(sorted(['c','k','b']))\n",
    "print(sorted(\"python\"))\n",
    "\n",
    "#합\n",
    "print(sum([33,2,15]))\n",
    "print(sum((2,15,6)))"
   ]
  },
  {
   "cell_type": "code",
   "execution_count": 31,
   "metadata": {},
   "outputs": [
    {
     "name": "stdout",
     "output_type": "stream",
     "text": [
      "123\n",
      "HI\n",
      "(2, 5, 7)\n",
      "('a', 'b', 'c', 'd')\n",
      "<class 'str'>\n",
      "<class 'list'>\n",
      "[(1, 2), (3, 4), (5, 6)]\n",
      "[('a', 'd'), ('b', 'e'), ('c', 'f')]\n"
     ]
    }
   ],
   "source": [
    "#문자열 형태로 변환\n",
    "print(str(123))\n",
    "print(str('hi'.upper()))\n",
    "\n",
    "#튜플 형태로 변환\n",
    "print(tuple([2,5,7]))\n",
    "print(tuple('abcd'))\n",
    "\n",
    "#무슨 자료형?\n",
    "print(type('abc'))\n",
    "print(type([3,6]))\n",
    "#print(type(open(\"test\",'w'))) #파일 자료형\n",
    "\n",
    "#동일 개수로 이루어진 자료형을 묶음\n",
    "print(list(zip([1,3,5],[2,4,6])))\n",
    "print(list(zip('abc','def')))"
   ]
  },
  {
   "cell_type": "markdown",
   "metadata": {},
   "source": [
    "5-6.외장함수"
   ]
  },
  {
   "cell_type": "code",
   "execution_count": null,
   "metadata": {},
   "outputs": [],
   "source": []
  }
 ],
 "metadata": {
  "kernelspec": {
   "display_name": "Python 3",
   "language": "python",
   "name": "python3"
  },
  "language_info": {
   "codemirror_mode": {
    "name": "ipython",
    "version": 3
   },
   "file_extension": ".py",
   "mimetype": "text/x-python",
   "name": "python",
   "nbconvert_exporter": "python",
   "pygments_lexer": "ipython3",
   "version": "3.6.5"
  }
 },
 "nbformat": 4,
 "nbformat_minor": 2
}
