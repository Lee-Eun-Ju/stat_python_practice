{
 "cells": [
  {
   "cell_type": "markdown",
   "metadata": {},
   "source": [
    "# Chap3.프로그램의 구조를 쌓는다! 제어문"
   ]
  },
  {
   "cell_type": "markdown",
   "metadata": {},
   "source": [
    "3-1.if문"
   ]
  },
  {
   "cell_type": "code",
   "execution_count": 1,
   "metadata": {},
   "outputs": [
    {
     "name": "stdout",
     "output_type": "stream",
     "text": [
      "걸어\n"
     ]
    }
   ],
   "source": [
    "money=2000\n",
    "if money>=3000:\n",
    "    print(\"택시 타\")\n",
    "else:\n",
    "    print(\"걸어\")"
   ]
  },
  {
   "cell_type": "code",
   "execution_count": 3,
   "metadata": {},
   "outputs": [
    {
     "name": "stdout",
     "output_type": "stream",
     "text": [
      "택시\n"
     ]
    }
   ],
   "source": [
    "money=500\n",
    "card=True\n",
    "if money>=3000 or card:\n",
    "    print(\"택시\")\n",
    "else:\n",
    "    print(\"걸어\")"
   ]
  },
  {
   "cell_type": "code",
   "execution_count": 4,
   "metadata": {},
   "outputs": [
    {
     "name": "stdout",
     "output_type": "stream",
     "text": [
      "택시\n"
     ]
    }
   ],
   "source": [
    "pocket=['paper','cellphone','money']\n",
    "if 'money' not in pocket:\n",
    "    print(\"걸어\")\n",
    "else:\n",
    "    print(\"택시\")"
   ]
  },
  {
   "cell_type": "code",
   "execution_count": 5,
   "metadata": {},
   "outputs": [],
   "source": [
    "pocket=['paper','cellphone','money']\n",
    "if 'money' in pocket:\n",
    "    pass #아무 결과값을 도출하지 않음.\n",
    "else:\n",
    "    print(\"카드 필요\")"
   ]
  },
  {
   "cell_type": "code",
   "execution_count": 6,
   "metadata": {},
   "outputs": [
    {
     "name": "stdout",
     "output_type": "stream",
     "text": [
      "택시 타\n"
     ]
    }
   ],
   "source": [
    "#elif문\n",
    "pocket=['paper','cellphone','card']\n",
    "if 'money' in pocket:\n",
    "    print(\"택시 타\")\n",
    "elif 'card' in pocket:\n",
    "    print(\"택시 타\")\n",
    "else:\n",
    "    print(\"걸어\")"
   ]
  },
  {
   "cell_type": "code",
   "execution_count": 11,
   "metadata": {},
   "outputs": [
    {
     "name": "stdout",
     "output_type": "stream",
     "text": [
      "failure\n",
      "failure\n"
     ]
    }
   ],
   "source": [
    "#조건부 표현식\n",
    "score=58\n",
    "if score>=60:\n",
    "    message=\"success\"\n",
    "else:\n",
    "    message=\"failure\"\n",
    "print(message)\n",
    "    \n",
    "message1=\"success\" if score>=60 else \"failure\"\n",
    "print(message1)"
   ]
  },
  {
   "cell_type": "markdown",
   "metadata": {},
   "source": [
    "3-2.while문"
   ]
  },
  {
   "cell_type": "code",
   "execution_count": 3,
   "metadata": {},
   "outputs": [
    {
     "name": "stdout",
     "output_type": "stream",
     "text": [
      "나무를 1번 찍었습니다.\n",
      "나무를 2번 찍었습니다.\n",
      "나무를 3번 찍었습니다.\n",
      "나무를 4번 찍었습니다.\n",
      "나무를 5번 찍었습니다.\n",
      "나무를 6번 찍었습니다.\n",
      "나무를 7번 찍었습니다.\n",
      "나무를 8번 찍었습니다.\n",
      "나무를 9번 찍었습니다.\n",
      "나무를 10번 찍었습니다.\n",
      "나무 넘어갑니다.\n"
     ]
    }
   ],
   "source": [
    "treehit=0\n",
    "while treehit<10:\n",
    "    treehit = treehit + 1\n",
    "    print(\"나무를 %d번 찍었습니다.\" % treehit)\n",
    "if treehit ==10:\n",
    "    print(\"나무 넘어갑니다.\")"
   ]
  },
  {
   "cell_type": "code",
   "execution_count": 11,
   "metadata": {},
   "outputs": [
    {
     "name": "stdout",
     "output_type": "stream",
     "text": [
      "\n",
      "    1.A\n",
      "    2.B\n",
      "    3.C\n",
      "    4.D\n",
      "    Enter number: \n",
      "1\n",
      "\n",
      "    1.A\n",
      "    2.B\n",
      "    3.C\n",
      "    4.D\n",
      "    Enter number: \n",
      "3\n",
      "\n",
      "    1.A\n",
      "    2.B\n",
      "    3.C\n",
      "    4.D\n",
      "    Enter number: \n",
      "4\n"
     ]
    }
   ],
   "source": [
    "prompt = \"\"\"\n",
    "    1.A\n",
    "    2.B\n",
    "    3.C\n",
    "    4.D\n",
    "    Enter number: \"\"\"\n",
    "\n",
    "number=0\n",
    "while number!=4:\n",
    "    print(prompt)\n",
    "    number=int(input()) #input함수를 통해 입력받을 수 있다."
   ]
  },
  {
   "cell_type": "code",
   "execution_count": 5,
   "metadata": {},
   "outputs": [
    {
     "name": "stdout",
     "output_type": "stream",
     "text": [
      "남은 커피는 9개 입니다.\n"
     ]
    }
   ],
   "source": [
    "coffee=10\n",
    "money=300\n",
    "while money==300:\n",
    "    money=money-300\n",
    "    coffee=coffee-1\n",
    "    print(\"남은 커피는 %d개 입니다.\" % coffee)\n",
    "    if coffee==0:\n",
    "        print(\"남은 커피가 없습니다.\")\n",
    "        break"
   ]
  },
  {
   "cell_type": "code",
   "execution_count": 13,
   "metadata": {},
   "outputs": [
    {
     "name": "stdout",
     "output_type": "stream",
     "text": [
      "남은 커피는 9개 입니다.\n",
      "남은 커피는 8개 입니다.\n",
      "남은 커피는 7개 입니다.\n",
      "남은 커피는 6개 입니다.\n",
      "남은 커피는 5개 입니다.\n",
      "남은 커피는 4개 입니다.\n",
      "남은 커피는 3개 입니다.\n",
      "남은 커피는 2개 입니다.\n",
      "남은 커피는 1개 입니다.\n",
      "남은 커피는 0개 입니다.\n",
      "남은 커피가 없습니다.\n"
     ]
    }
   ],
   "source": [
    "#while문 중단-> break\n",
    "coffee=10\n",
    "money=300\n",
    "while money: # =0이 아니므로 무한루프\n",
    "    coffee=coffee-1\n",
    "    print(\"남은 커피는 %d개 입니다.\" % coffee)\n",
    "    if coffee==0:\n",
    "        print(\"남은 커피가 없습니다.\")\n",
    "        break"
   ]
  },
  {
   "cell_type": "code",
   "execution_count": 15,
   "metadata": {},
   "outputs": [
    {
     "name": "stdout",
     "output_type": "stream",
     "text": [
      "돈 넣어400\n",
      "거스름돈 100원 줄께\n",
      "돈 넣어300\n",
      "커피줄께\n",
      "돈 넣어200\n",
      "돈이 부족합니다.\n",
      "돈 넣어500\n",
      "거스름돈 200원 줄께\n",
      "돈 넣어400\n",
      "거스름돈 100원 줄께\n",
      "돈 넣어300\n",
      "커피줄께\n",
      "돈 넣어700\n",
      "거스름돈 400원 줄께\n",
      "돈 넣어800\n",
      "거스름돈 500원 줄께\n",
      "돈 넣어100\n",
      "돈이 부족합니다.\n",
      "돈 넣어500\n",
      "거스름돈 200원 줄께\n",
      "돈 넣어300\n",
      "커피줄께\n",
      "돈 넣어400\n",
      "거스름돈 100원 줄께\n",
      "남은 커피가 없습니다.\n"
     ]
    }
   ],
   "source": [
    "coffee=10\n",
    "while coffee:\n",
    "    money=int(input(\"돈 넣어\"))\n",
    "    if money==300:\n",
    "        coffee=coffee-1\n",
    "        print(\"커피줄께\")\n",
    "    elif money>300:\n",
    "        coffee=coffee-1\n",
    "        print(\"거스름돈 %s원 줄께\" % (money-300))\n",
    "    else:\n",
    "        print(\"돈이 부족합니다.\")\n",
    "    if coffee==0:\n",
    "        print(\"남은 커피가 없습니다.\")\n",
    "        break"
   ]
  },
  {
   "cell_type": "code",
   "execution_count": 17,
   "metadata": {},
   "outputs": [
    {
     "name": "stdout",
     "output_type": "stream",
     "text": [
      "1\n",
      "3\n",
      "5\n",
      "7\n",
      "9\n"
     ]
    }
   ],
   "source": [
    "#while문 처음으로 돌아가기-> continue\n",
    "a=0\n",
    "while a<10:\n",
    "    a=a+1\n",
    "    if a%2==0: continue #print(a)를 진행하지 않고 처음으로 돌아가서 다시 진행\n",
    "    print(a)\n",
    "    \n",
    "#무한루프 빠져나가기-> ctrl+c"
   ]
  },
  {
   "cell_type": "markdown",
   "metadata": {},
   "source": [
    "3-3.for문"
   ]
  },
  {
   "cell_type": "code",
   "execution_count": 18,
   "metadata": {},
   "outputs": [
    {
     "name": "stdout",
     "output_type": "stream",
     "text": [
      "one\n",
      "two\n",
      "three\n"
     ]
    }
   ],
   "source": [
    "test=['one','two','three']\n",
    "for i in test:\n",
    "    print(i)"
   ]
  },
  {
   "cell_type": "code",
   "execution_count": 19,
   "metadata": {},
   "outputs": [
    {
     "name": "stdout",
     "output_type": "stream",
     "text": [
      "3\n",
      "7\n",
      "11\n"
     ]
    }
   ],
   "source": [
    "test1=[(1,2),(3,4),(5,6)]\n",
    "for (i,k) in test1:\n",
    "    print(i+k)"
   ]
  },
  {
   "cell_type": "code",
   "execution_count": 25,
   "metadata": {},
   "outputs": [
    {
     "name": "stdout",
     "output_type": "stream",
     "text": [
      "1번째 학생은 불합격입니다.\n",
      "2번째 학생은 합격입니다.\n",
      "3번째 학생은 불합격입니다.\n",
      "4번째 학생은 합격입니다.\n",
      "5번째 학생은 합격입니다.\n"
     ]
    }
   ],
   "source": [
    "math=[56,87,28,96,74]\n",
    "for i in math:\n",
    "    if i>=60:\n",
    "        print(\"%d번째 학생은 합격입니다.\" % (math.index(i)+1))\n",
    "    else:\n",
    "        print(\"%d번째 학생은 불합격입니다.\" % (math.index(i)+1))"
   ]
  },
  {
   "cell_type": "code",
   "execution_count": 27,
   "metadata": {},
   "outputs": [
    {
     "name": "stdout",
     "output_type": "stream",
     "text": [
      "3번째 학생 합격\n"
     ]
    }
   ],
   "source": [
    "math=[57,23,84,56,16]\n",
    "for i in math:\n",
    "    if i<=60: continue\n",
    "    else: print(\"%d번째 학생 합격\" % (math.index(i)+1))"
   ]
  },
  {
   "cell_type": "code",
   "execution_count": 32,
   "metadata": {},
   "outputs": [
    {
     "name": "stdout",
     "output_type": "stream",
     "text": [
      "range(0, 10)\n",
      "range(1, 11)\n",
      "55\n",
      "1번째 학생 불합격\n",
      "2번째 학생 불합격\n",
      "3번째 학생 합격\n",
      "4번째 학생 불합격\n",
      "5번째 학생 불합격\n"
     ]
    }
   ],
   "source": [
    "print(range(10)) #0<=x<10\n",
    "print(range(1,11)) #1<=x<11\n",
    "\n",
    "a=range(1,11)\n",
    "sum=0\n",
    "for i in a:\n",
    "    sum = sum + i\n",
    "print(sum)\n",
    "\n",
    "math=[57,23,84,56,16]\n",
    "for k in range(len(math)):\n",
    "    if math[k]>=60:\n",
    "        print(\"%d번째 학생 합격\" % (k+1))\n",
    "    else:\n",
    "        print(\"%d번째 학생 불합격\" % (k+1))"
   ]
  },
  {
   "cell_type": "code",
   "execution_count": 35,
   "metadata": {},
   "outputs": [
    {
     "name": "stdout",
     "output_type": "stream",
     "text": [
      "2 4 6 8 10 12 14 16 18  \n",
      "3 6 9 12 15 18 21 24 27  \n",
      "4 8 12 16 20 24 28 32 36  \n",
      "5 10 15 20 25 30 35 40 45  \n",
      "6 12 18 24 30 36 42 48 54  \n",
      "7 14 21 28 35 42 49 56 63  \n",
      "8 16 24 32 40 48 56 64 72  \n",
      "9 18 27 36 45 54 63 72 81  \n"
     ]
    }
   ],
   "source": [
    "for i in range(2,10):\n",
    "    for k in range(1,10):\n",
    "        print(i*k,end=\" \") #end=\" \" 다음줄로 넘어가지 않고 그 줄에서 출력\n",
    "    print(' ') #' ' 다음줄로 입력"
   ]
  },
  {
   "cell_type": "code",
   "execution_count": 38,
   "metadata": {},
   "outputs": [
    {
     "name": "stdout",
     "output_type": "stream",
     "text": [
      "[5, 10, 15, 20]\n",
      "[5, 10, 15, 20]\n",
      "[10, 20]\n"
     ]
    }
   ],
   "source": [
    "a=[1,2,3,4]\n",
    "result=[]\n",
    "for i in a:\n",
    "    result.append(i*5)\n",
    "print(result)\n",
    "\n",
    "result1=[i*5 for i in a]\n",
    "print(result1)\n",
    "\n",
    "result2=[i*5 for i in a if i%2==0]\n",
    "print(result2)"
   ]
  },
  {
   "cell_type": "code",
   "execution_count": 39,
   "metadata": {},
   "outputs": [
    {
     "name": "stdout",
     "output_type": "stream",
     "text": [
      "[1, 2, 3, 4, 5, 2, 4, 6, 8, 10, 3, 6, 9, 12, 15, 4, 8, 12, 16, 20, 5, 10, 15, 20, 25]\n"
     ]
    }
   ],
   "source": [
    "result0 = [x*y for x in range(1,6)\n",
    "              for y in range(1,6)]\n",
    "print(result0)"
   ]
  },
  {
   "cell_type": "code",
   "execution_count": null,
   "metadata": {},
   "outputs": [],
   "source": []
  }
 ],
 "metadata": {
  "kernelspec": {
   "display_name": "Python 3",
   "language": "python",
   "name": "python3"
  },
  "language_info": {
   "codemirror_mode": {
    "name": "ipython",
    "version": 3
   },
   "file_extension": ".py",
   "mimetype": "text/x-python",
   "name": "python",
   "nbconvert_exporter": "python",
   "pygments_lexer": "ipython3",
   "version": "3.6.5"
  }
 },
 "nbformat": 4,
 "nbformat_minor": 2
}
