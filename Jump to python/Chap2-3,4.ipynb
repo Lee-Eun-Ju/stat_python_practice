{
 "cells": [
  {
   "cell_type": "markdown",
   "metadata": {},
   "source": [
    "# Chap2-3,4"
   ]
  },
  {
   "cell_type": "markdown",
   "metadata": {},
   "source": [
    "2-3. 리스트 자료형"
   ]
  },
  {
   "cell_type": "code",
   "execution_count": 1,
   "metadata": {},
   "outputs": [
    {
     "name": "stdout",
     "output_type": "stream",
     "text": [
      "[1, 3, 5, 7]\n",
      "[1, 2, 'Life', 'is'] [1, 2, ['Life', 'is']]\n"
     ]
    }
   ],
   "source": [
    "#리스트란?\n",
    "odd=[1,3,5,7]\n",
    "print(odd)\n",
    "a=[1,2,'Life','is']\n",
    "b=[1,2,['Life','is']]\n",
    "print(a,b)"
   ]
  },
  {
   "cell_type": "code",
   "execution_count": 9,
   "metadata": {},
   "outputs": [
    {
     "name": "stdout",
     "output_type": "stream",
     "text": [
      "1\n",
      "is\n",
      "is\n",
      "3\n",
      "['is', 3, 4]\n",
      "7\n",
      "[1, 2, 3]\n",
      "[1, 2]\n",
      "[3, 4, 5]\n",
      "[2, 3]\n",
      "[3, 4]\n"
     ]
    }
   ],
   "source": [
    "#리스트의 인덱싱과 슬라이싱\n",
    "a=[1,2,'Life','is']\n",
    "print(a[0])\n",
    "print(a[3]); print(a[-1])\n",
    "print(a[0]+a[1]) #print(a[0]+a[3])는 오류 -> 숫장와 문자는 연산이 되지 않는다.\n",
    "\n",
    "b=[1,2,'Life',['is',3,4]]\n",
    "print(b[3])\n",
    "print(b[3][1]+b[3][2]) #리스트 내의 리스트 요소\n",
    "\n",
    "c=[1,2,3,4,5]\n",
    "print(c[0:3]) #0<=c<3 으로 해석\n",
    "print(c[:2])\n",
    "print(c[2:])\n",
    "print(c[1:3])\n",
    "\n",
    "print(b[3][1:3])"
   ]
  },
  {
   "cell_type": "code",
   "execution_count": 12,
   "metadata": {},
   "outputs": [
    {
     "name": "stdout",
     "output_type": "stream",
     "text": [
      "[1, 2, 3, 1, 2, 3, 1, 2, 3]\n",
      "[1, 2, 3, 4, 5, 6]\n",
      "3\n",
      "2hi\n"
     ]
    }
   ],
   "source": [
    "#리스트 연산하기\n",
    "a=[1,2,3]\n",
    "b=[4,5,6]\n",
    "\n",
    "print(a*3)\n",
    "print(a+b)\n",
    "print(len(a)) #리스트의 길이\n",
    "print(str(a[1])+\"hi\") #str(); 정수나 실수를 문자열의 형태로 바꿔줌"
   ]
  },
  {
   "cell_type": "code",
   "execution_count": 14,
   "metadata": {},
   "outputs": [
    {
     "name": "stdout",
     "output_type": "stream",
     "text": [
      "[1, 4, 3, 4]\n",
      "[4, 3, 4]\n",
      "[4]\n"
     ]
    }
   ],
   "source": [
    "#리스트 수정과 삭제\n",
    "a=[1,2,3,4]\n",
    "a[1]=4\n",
    "print(a)\n",
    "\n",
    "del a[0]\n",
    "print(a)\n",
    "del a[1:]\n",
    "print(a)"
   ]
  },
  {
   "cell_type": "code",
   "execution_count": 28,
   "metadata": {},
   "outputs": [
    {
     "name": "stdout",
     "output_type": "stream",
     "text": [
      "[1, 2, 3, 4, [5, 6]]\n",
      "[1, 1, 2, 3, 4, [5, 6]]\n",
      "[1, 2, 3, 4, [5, 6]]\n",
      "[1, 2, 3, 7]\n",
      "[2, 0, 4]\n",
      "0\n",
      "[1, 2, 3, 4, 5]\n",
      "[1, 2, 3, 4, 5, 6, 7]\n"
     ]
    }
   ],
   "source": [
    "#리스트 관련 함수\n",
    "#요소 추가(append)\n",
    "a=[1,2,3]\n",
    "a.append(4)\n",
    "a.append([5,6])\n",
    "print(a)\n",
    "\n",
    "#요소 삽입(insert)\n",
    "a.insert(0,1) #0번째 위치에 1삽입\n",
    "print(a)\n",
    "\n",
    "#요소 제거(remove) -> 리스트에서 첫번째로 나온 x를 삭제  \n",
    "a.remove(1)\n",
    "print(a)\n",
    "\n",
    "#정렬(sort)\n",
    "b=[3,7,1,2]\n",
    "b.sort()\n",
    "print(b)\n",
    "\n",
    "#뒤집기(reverse)\n",
    "c=[4,0,2]\n",
    "c.reverse()\n",
    "print(c)\n",
    "\n",
    "#위치 반환(index)\n",
    "print(c.index(2))\n",
    "\n",
    "#요소 끄집어내기(pop) -> x번째 요소 출력 후 리스트에서 삭제\n",
    "d=[1,2,3,4,5]\n",
    "d.pop(2)\n",
    "\n",
    "#리스트 요소 x 개수(count)\n",
    "e=[1,1,2,2,2,3]\n",
    "e.count(2)\n",
    "\n",
    "#리스트 확장(extend)\n",
    "f=[1,2,3]\n",
    "f.extend([4,5])\n",
    "print(f)\n",
    "\n",
    "f+=[6,7]\n",
    "print(f)"
   ]
  },
  {
   "cell_type": "markdown",
   "metadata": {},
   "source": [
    "2-4. 튜플 자료형 - 튜플은 값의 생성,삭제,수정이 불가능하여 프로그램이 실행되는 동안 그 값이 항상 변하지 않기를 바랄 때 사용"
   ]
  },
  {
   "cell_type": "code",
   "execution_count": 29,
   "metadata": {},
   "outputs": [
    {
     "name": "stdout",
     "output_type": "stream",
     "text": [
      "(1, 2, 3, 'Life', 'is')\n"
     ]
    },
    {
     "ename": "TypeError",
     "evalue": "'tuple' object doesn't support item deletion",
     "output_type": "error",
     "traceback": [
      "\u001b[1;31m---------------------------------------------------------------------------\u001b[0m",
      "\u001b[1;31mTypeError\u001b[0m                                 Traceback (most recent call last)",
      "\u001b[1;32m<ipython-input-29-5c3dc7b79860>\u001b[0m in \u001b[0;36m<module>\u001b[1;34m()\u001b[0m\n\u001b[0;32m      2\u001b[0m \u001b[0mprint\u001b[0m\u001b[1;33m(\u001b[0m\u001b[0mt1\u001b[0m\u001b[1;33m)\u001b[0m\u001b[1;33m\u001b[0m\u001b[0m\n\u001b[0;32m      3\u001b[0m \u001b[1;33m\u001b[0m\u001b[0m\n\u001b[1;32m----> 4\u001b[1;33m \u001b[1;32mdel\u001b[0m \u001b[0mt1\u001b[0m\u001b[1;33m[\u001b[0m\u001b[1;36m0\u001b[0m\u001b[1;33m]\u001b[0m \u001b[1;31m#오류 발생\u001b[0m\u001b[1;33m\u001b[0m\u001b[0m\n\u001b[0m",
      "\u001b[1;31mTypeError\u001b[0m: 'tuple' object doesn't support item deletion"
     ]
    }
   ],
   "source": [
    "t1=(1,2,3,'Life','is')\n",
    "print(t1)\n",
    "\n",
    "del t1[0] #오류 발생"
   ]
  },
  {
   "cell_type": "code",
   "execution_count": null,
   "metadata": {},
   "outputs": [],
   "source": []
  }
 ],
 "metadata": {
  "kernelspec": {
   "display_name": "Python 3",
   "language": "python",
   "name": "python3"
  },
  "language_info": {
   "codemirror_mode": {
    "name": "ipython",
    "version": 3
   },
   "file_extension": ".py",
   "mimetype": "text/x-python",
   "name": "python",
   "nbconvert_exporter": "python",
   "pygments_lexer": "ipython3",
   "version": "3.6.5"
  }
 },
 "nbformat": 4,
 "nbformat_minor": 2
}
